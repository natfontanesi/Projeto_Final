{
  "nbformat": 4,
  "nbformat_minor": 0,
  "metadata": {
    "colab": {
      "name": "Trabalho_Final.ipynb",
      "provenance": []
    },
    "kernelspec": {
      "name": "python3",
      "display_name": "Python 3"
    },
    "language_info": {
      "name": "python"
    }
  },
  "cells": [
    {
      "cell_type": "markdown",
      "metadata": {
        "id": "zaA8xtxrHbO0"
      },
      "source": [
        "### Projeto Final\n",
        "### Equipe Thiago Farias e Natascha Weber"
      ]
    },
    {
      "cell_type": "code",
      "metadata": {
        "id": "-q5AG0fBGeM3"
      },
      "source": [
        "import pandas as pd\n",
        "import json\n",
        "import numpy as np\n",
        "import matplotlib.pyplot as plt\n",
        "import seaborn as sns"
      ],
      "execution_count": null,
      "outputs": []
    },
    {
      "cell_type": "markdown",
      "metadata": {
        "id": "-Ale6y8eH7vF"
      },
      "source": [
        "### Dados do Spotify"
      ]
    },
    {
      "cell_type": "code",
      "metadata": {
        "colab": {
          "base_uri": "https://localhost:8080/",
          "height": 202
        },
        "id": "7BTuC1QQH2a1",
        "outputId": "726e616e-07b0-4311-a512-26760e9338d0"
      },
      "source": [
        "historico1=pd.read_json('/content/drive/MyDrive/3_VAMO_AI/Dados_Natascha/Dados_Spotify_Descomprimido/MyData/StreamingHistory0.json')\n",
        "historico1.head()"
      ],
      "execution_count": null,
      "outputs": [
        {
          "output_type": "execute_result",
          "data": {
            "text/html": [
              "<div>\n",
              "<style scoped>\n",
              "    .dataframe tbody tr th:only-of-type {\n",
              "        vertical-align: middle;\n",
              "    }\n",
              "\n",
              "    .dataframe tbody tr th {\n",
              "        vertical-align: top;\n",
              "    }\n",
              "\n",
              "    .dataframe thead th {\n",
              "        text-align: right;\n",
              "    }\n",
              "</style>\n",
              "<table border=\"1\" class=\"dataframe\">\n",
              "  <thead>\n",
              "    <tr style=\"text-align: right;\">\n",
              "      <th></th>\n",
              "      <th>endTime</th>\n",
              "      <th>artistName</th>\n",
              "      <th>trackName</th>\n",
              "      <th>msPlayed</th>\n",
              "    </tr>\n",
              "  </thead>\n",
              "  <tbody>\n",
              "    <tr>\n",
              "      <th>0</th>\n",
              "      <td>2020-07-18 00:01</td>\n",
              "      <td>Metric</td>\n",
              "      <td>Gimme Sympathy - Acoustic</td>\n",
              "      <td>207040</td>\n",
              "    </tr>\n",
              "    <tr>\n",
              "      <th>1</th>\n",
              "      <td>2020-07-18 00:04</td>\n",
              "      <td>Metric</td>\n",
              "      <td>Gimme Sympathy - Acoustic</td>\n",
              "      <td>207040</td>\n",
              "    </tr>\n",
              "    <tr>\n",
              "      <th>2</th>\n",
              "      <td>2020-07-18 00:06</td>\n",
              "      <td>Mirah</td>\n",
              "      <td>Special Death</td>\n",
              "      <td>96810</td>\n",
              "    </tr>\n",
              "    <tr>\n",
              "      <th>3</th>\n",
              "      <td>2020-07-18 00:07</td>\n",
              "      <td>Beck</td>\n",
              "      <td>Ramona</td>\n",
              "      <td>45210</td>\n",
              "    </tr>\n",
              "    <tr>\n",
              "      <th>4</th>\n",
              "      <td>2020-07-18 00:11</td>\n",
              "      <td>The Bluetones</td>\n",
              "      <td>Sleazy Bed Track</td>\n",
              "      <td>19747</td>\n",
              "    </tr>\n",
              "  </tbody>\n",
              "</table>\n",
              "</div>"
            ],
            "text/plain": [
              "            endTime     artistName                  trackName  msPlayed\n",
              "0  2020-07-18 00:01         Metric  Gimme Sympathy - Acoustic    207040\n",
              "1  2020-07-18 00:04         Metric  Gimme Sympathy - Acoustic    207040\n",
              "2  2020-07-18 00:06          Mirah              Special Death     96810\n",
              "3  2020-07-18 00:07           Beck                     Ramona     45210\n",
              "4  2020-07-18 00:11  The Bluetones           Sleazy Bed Track     19747"
            ]
          },
          "metadata": {
            "tags": []
          },
          "execution_count": 3
        }
      ]
    },
    {
      "cell_type": "code",
      "metadata": {
        "colab": {
          "base_uri": "https://localhost:8080/",
          "height": 202
        },
        "id": "omeHET_1Ibxw",
        "outputId": "046fbe92-1343-4374-ebe3-d52e1fccae25"
      },
      "source": [
        "historico2=pd.read_json('/content/drive/MyDrive/3_VAMO_AI/Dados_Natascha/Dados_Spotify_Descomprimido/MyData/StreamingHistory1.json')\n",
        "historico2.head()"
      ],
      "execution_count": null,
      "outputs": [
        {
          "output_type": "execute_result",
          "data": {
            "text/html": [
              "<div>\n",
              "<style scoped>\n",
              "    .dataframe tbody tr th:only-of-type {\n",
              "        vertical-align: middle;\n",
              "    }\n",
              "\n",
              "    .dataframe tbody tr th {\n",
              "        vertical-align: top;\n",
              "    }\n",
              "\n",
              "    .dataframe thead th {\n",
              "        text-align: right;\n",
              "    }\n",
              "</style>\n",
              "<table border=\"1\" class=\"dataframe\">\n",
              "  <thead>\n",
              "    <tr style=\"text-align: right;\">\n",
              "      <th></th>\n",
              "      <th>endTime</th>\n",
              "      <th>artistName</th>\n",
              "      <th>trackName</th>\n",
              "      <th>msPlayed</th>\n",
              "    </tr>\n",
              "  </thead>\n",
              "  <tbody>\n",
              "    <tr>\n",
              "      <th>0</th>\n",
              "      <td>2020-11-02 00:10</td>\n",
              "      <td>Garbage</td>\n",
              "      <td>Stupid Girl</td>\n",
              "      <td>390</td>\n",
              "    </tr>\n",
              "    <tr>\n",
              "      <th>1</th>\n",
              "      <td>2020-11-02 00:10</td>\n",
              "      <td>Lady Gaga</td>\n",
              "      <td>Paparazzi</td>\n",
              "      <td>1070</td>\n",
              "    </tr>\n",
              "    <tr>\n",
              "      <th>2</th>\n",
              "      <td>2020-11-02 00:10</td>\n",
              "      <td>Ida Maria</td>\n",
              "      <td>Bad Karma</td>\n",
              "      <td>1450</td>\n",
              "    </tr>\n",
              "    <tr>\n",
              "      <th>3</th>\n",
              "      <td>2020-11-02 00:14</td>\n",
              "      <td>Gwen Stefani</td>\n",
              "      <td>The Sweet Escape</td>\n",
              "      <td>246466</td>\n",
              "    </tr>\n",
              "    <tr>\n",
              "      <th>4</th>\n",
              "      <td>2020-11-02 00:19</td>\n",
              "      <td>Joy Division</td>\n",
              "      <td>Dead Souls</td>\n",
              "      <td>295506</td>\n",
              "    </tr>\n",
              "  </tbody>\n",
              "</table>\n",
              "</div>"
            ],
            "text/plain": [
              "            endTime    artistName         trackName  msPlayed\n",
              "0  2020-11-02 00:10       Garbage       Stupid Girl       390\n",
              "1  2020-11-02 00:10     Lady Gaga         Paparazzi      1070\n",
              "2  2020-11-02 00:10     Ida Maria         Bad Karma      1450\n",
              "3  2020-11-02 00:14  Gwen Stefani  The Sweet Escape    246466\n",
              "4  2020-11-02 00:19  Joy Division        Dead Souls    295506"
            ]
          },
          "metadata": {
            "tags": []
          },
          "execution_count": 4
        }
      ]
    },
    {
      "cell_type": "code",
      "metadata": {
        "colab": {
          "base_uri": "https://localhost:8080/",
          "height": 202
        },
        "id": "wlgpQAoXI5j_",
        "outputId": "b9491dba-1f56-4896-fad5-1a1039ac23ac"
      },
      "source": [
        "historico3=pd.read_json('/content/drive/MyDrive/3_VAMO_AI/Dados_Natascha/Dados_Spotify_Descomprimido/MyData/StreamingHistory2.json')\n",
        "historico3.head()"
      ],
      "execution_count": null,
      "outputs": [
        {
          "output_type": "execute_result",
          "data": {
            "text/html": [
              "<div>\n",
              "<style scoped>\n",
              "    .dataframe tbody tr th:only-of-type {\n",
              "        vertical-align: middle;\n",
              "    }\n",
              "\n",
              "    .dataframe tbody tr th {\n",
              "        vertical-align: top;\n",
              "    }\n",
              "\n",
              "    .dataframe thead th {\n",
              "        text-align: right;\n",
              "    }\n",
              "</style>\n",
              "<table border=\"1\" class=\"dataframe\">\n",
              "  <thead>\n",
              "    <tr style=\"text-align: right;\">\n",
              "      <th></th>\n",
              "      <th>endTime</th>\n",
              "      <th>artistName</th>\n",
              "      <th>trackName</th>\n",
              "      <th>msPlayed</th>\n",
              "    </tr>\n",
              "  </thead>\n",
              "  <tbody>\n",
              "    <tr>\n",
              "      <th>0</th>\n",
              "      <td>2021-02-16 17:36</td>\n",
              "      <td>La Roux</td>\n",
              "      <td>Bulletproof</td>\n",
              "      <td>205692</td>\n",
              "    </tr>\n",
              "    <tr>\n",
              "      <th>1</th>\n",
              "      <td>2021-02-16 17:39</td>\n",
              "      <td>Gino Paoli</td>\n",
              "      <td>Senza fine</td>\n",
              "      <td>167443</td>\n",
              "    </tr>\n",
              "    <tr>\n",
              "      <th>2</th>\n",
              "      <td>2021-02-16 17:45</td>\n",
              "      <td>Queen</td>\n",
              "      <td>Bohemian Rhapsody - Remastered 2011</td>\n",
              "      <td>354204</td>\n",
              "    </tr>\n",
              "    <tr>\n",
              "      <th>3</th>\n",
              "      <td>2021-02-16 17:48</td>\n",
              "      <td>Hole</td>\n",
              "      <td>Miss World</td>\n",
              "      <td>179912</td>\n",
              "    </tr>\n",
              "    <tr>\n",
              "      <th>4</th>\n",
              "      <td>2021-02-16 17:52</td>\n",
              "      <td>Marina Lima</td>\n",
              "      <td>Nosso Estranho Amor</td>\n",
              "      <td>225706</td>\n",
              "    </tr>\n",
              "  </tbody>\n",
              "</table>\n",
              "</div>"
            ],
            "text/plain": [
              "            endTime   artistName                            trackName  msPlayed\n",
              "0  2021-02-16 17:36      La Roux                          Bulletproof    205692\n",
              "1  2021-02-16 17:39   Gino Paoli                           Senza fine    167443\n",
              "2  2021-02-16 17:45        Queen  Bohemian Rhapsody - Remastered 2011    354204\n",
              "3  2021-02-16 17:48         Hole                           Miss World    179912\n",
              "4  2021-02-16 17:52  Marina Lima                  Nosso Estranho Amor    225706"
            ]
          },
          "metadata": {
            "tags": []
          },
          "execution_count": 5
        }
      ]
    },
    {
      "cell_type": "code",
      "metadata": {
        "colab": {
          "base_uri": "https://localhost:8080/"
        },
        "id": "KQDnYLtXI-29",
        "outputId": "8ece5809-3c26-4358-9511-496f6eded854"
      },
      "source": [
        "frames=(historico1,historico2,historico3)\n",
        "hist_final=pd.concat(frames)\n",
        "hist_final.shape"
      ],
      "execution_count": null,
      "outputs": [
        {
          "output_type": "execute_result",
          "data": {
            "text/plain": [
              "(25171, 4)"
            ]
          },
          "metadata": {
            "tags": []
          },
          "execution_count": 6
        }
      ]
    },
    {
      "cell_type": "code",
      "metadata": {
        "colab": {
          "base_uri": "https://localhost:8080/",
          "height": 202
        },
        "id": "0S9M0jaFJFoE",
        "outputId": "6102c511-7875-4960-c734-fe94ea0c6e55"
      },
      "source": [
        "hist_final.head()"
      ],
      "execution_count": null,
      "outputs": [
        {
          "output_type": "execute_result",
          "data": {
            "text/html": [
              "<div>\n",
              "<style scoped>\n",
              "    .dataframe tbody tr th:only-of-type {\n",
              "        vertical-align: middle;\n",
              "    }\n",
              "\n",
              "    .dataframe tbody tr th {\n",
              "        vertical-align: top;\n",
              "    }\n",
              "\n",
              "    .dataframe thead th {\n",
              "        text-align: right;\n",
              "    }\n",
              "</style>\n",
              "<table border=\"1\" class=\"dataframe\">\n",
              "  <thead>\n",
              "    <tr style=\"text-align: right;\">\n",
              "      <th></th>\n",
              "      <th>endTime</th>\n",
              "      <th>artistName</th>\n",
              "      <th>trackName</th>\n",
              "      <th>msPlayed</th>\n",
              "    </tr>\n",
              "  </thead>\n",
              "  <tbody>\n",
              "    <tr>\n",
              "      <th>0</th>\n",
              "      <td>2020-07-18 00:01</td>\n",
              "      <td>Metric</td>\n",
              "      <td>Gimme Sympathy - Acoustic</td>\n",
              "      <td>207040</td>\n",
              "    </tr>\n",
              "    <tr>\n",
              "      <th>1</th>\n",
              "      <td>2020-07-18 00:04</td>\n",
              "      <td>Metric</td>\n",
              "      <td>Gimme Sympathy - Acoustic</td>\n",
              "      <td>207040</td>\n",
              "    </tr>\n",
              "    <tr>\n",
              "      <th>2</th>\n",
              "      <td>2020-07-18 00:06</td>\n",
              "      <td>Mirah</td>\n",
              "      <td>Special Death</td>\n",
              "      <td>96810</td>\n",
              "    </tr>\n",
              "    <tr>\n",
              "      <th>3</th>\n",
              "      <td>2020-07-18 00:07</td>\n",
              "      <td>Beck</td>\n",
              "      <td>Ramona</td>\n",
              "      <td>45210</td>\n",
              "    </tr>\n",
              "    <tr>\n",
              "      <th>4</th>\n",
              "      <td>2020-07-18 00:11</td>\n",
              "      <td>The Bluetones</td>\n",
              "      <td>Sleazy Bed Track</td>\n",
              "      <td>19747</td>\n",
              "    </tr>\n",
              "  </tbody>\n",
              "</table>\n",
              "</div>"
            ],
            "text/plain": [
              "            endTime     artistName                  trackName  msPlayed\n",
              "0  2020-07-18 00:01         Metric  Gimme Sympathy - Acoustic    207040\n",
              "1  2020-07-18 00:04         Metric  Gimme Sympathy - Acoustic    207040\n",
              "2  2020-07-18 00:06          Mirah              Special Death     96810\n",
              "3  2020-07-18 00:07           Beck                     Ramona     45210\n",
              "4  2020-07-18 00:11  The Bluetones           Sleazy Bed Track     19747"
            ]
          },
          "metadata": {
            "tags": []
          },
          "execution_count": 7
        }
      ]
    },
    {
      "cell_type": "code",
      "metadata": {
        "colab": {
          "base_uri": "https://localhost:8080/"
        },
        "id": "lIZlDuNmwJn3",
        "outputId": "88203000-fd2e-4588-c204-7872ed6cdbd2"
      },
      "source": [
        "hist_final.info()"
      ],
      "execution_count": null,
      "outputs": [
        {
          "output_type": "stream",
          "text": [
            "<class 'pandas.core.frame.DataFrame'>\n",
            "Int64Index: 25171 entries, 0 to 5170\n",
            "Data columns (total 4 columns):\n",
            " #   Column      Non-Null Count  Dtype \n",
            "---  ------      --------------  ----- \n",
            " 0   endTime     25171 non-null  object\n",
            " 1   artistName  25171 non-null  object\n",
            " 2   trackName   25171 non-null  object\n",
            " 3   msPlayed    25171 non-null  int64 \n",
            "dtypes: int64(1), object(3)\n",
            "memory usage: 983.2+ KB\n"
          ],
          "name": "stdout"
        }
      ]
    },
    {
      "cell_type": "code",
      "metadata": {
        "colab": {
          "base_uri": "https://localhost:8080/",
          "height": 294
        },
        "id": "9o6dxutZm2sk",
        "outputId": "00556311-9aa9-4eef-d284-9fbc5c2049c0"
      },
      "source": [
        "hist_final.describe()"
      ],
      "execution_count": null,
      "outputs": [
        {
          "output_type": "execute_result",
          "data": {
            "text/html": [
              "<div>\n",
              "<style scoped>\n",
              "    .dataframe tbody tr th:only-of-type {\n",
              "        vertical-align: middle;\n",
              "    }\n",
              "\n",
              "    .dataframe tbody tr th {\n",
              "        vertical-align: top;\n",
              "    }\n",
              "\n",
              "    .dataframe thead th {\n",
              "        text-align: right;\n",
              "    }\n",
              "</style>\n",
              "<table border=\"1\" class=\"dataframe\">\n",
              "  <thead>\n",
              "    <tr style=\"text-align: right;\">\n",
              "      <th></th>\n",
              "      <th>msPlayed</th>\n",
              "    </tr>\n",
              "  </thead>\n",
              "  <tbody>\n",
              "    <tr>\n",
              "      <th>count</th>\n",
              "      <td>2.517100e+04</td>\n",
              "    </tr>\n",
              "    <tr>\n",
              "      <th>mean</th>\n",
              "      <td>1.246311e+05</td>\n",
              "    </tr>\n",
              "    <tr>\n",
              "      <th>std</th>\n",
              "      <td>1.368466e+05</td>\n",
              "    </tr>\n",
              "    <tr>\n",
              "      <th>min</th>\n",
              "      <td>0.000000e+00</td>\n",
              "    </tr>\n",
              "    <tr>\n",
              "      <th>25%</th>\n",
              "      <td>1.319500e+03</td>\n",
              "    </tr>\n",
              "    <tr>\n",
              "      <th>50%</th>\n",
              "      <td>1.221330e+05</td>\n",
              "    </tr>\n",
              "    <tr>\n",
              "      <th>75%</th>\n",
              "      <td>2.262660e+05</td>\n",
              "    </tr>\n",
              "    <tr>\n",
              "      <th>max</th>\n",
              "      <td>3.064058e+06</td>\n",
              "    </tr>\n",
              "  </tbody>\n",
              "</table>\n",
              "</div>"
            ],
            "text/plain": [
              "           msPlayed\n",
              "count  2.517100e+04\n",
              "mean   1.246311e+05\n",
              "std    1.368466e+05\n",
              "min    0.000000e+00\n",
              "25%    1.319500e+03\n",
              "50%    1.221330e+05\n",
              "75%    2.262660e+05\n",
              "max    3.064058e+06"
            ]
          },
          "metadata": {
            "tags": []
          },
          "execution_count": 9
        }
      ]
    },
    {
      "cell_type": "code",
      "metadata": {
        "colab": {
          "base_uri": "https://localhost:8080/"
        },
        "id": "a2QuoiMdJKCo",
        "outputId": "6debbc06-1aa2-456a-f8e5-3fcd2c4d2d16"
      },
      "source": [
        "hist_final['trackName'].value_counts()"
      ],
      "execution_count": null,
      "outputs": [
        {
          "output_type": "execute_result",
          "data": {
            "text/plain": [
              "Circles                                                194\n",
              "I Ran (So Far Away)                                    190\n",
              "Major Tom - Coming Home                                139\n",
              "Bad Guy                                                137\n",
              "I Was Made For Lovin' You                              132\n",
              "                                                      ... \n",
              "O Canto da Cidade                                        1\n",
              "Rebola                                                   1\n",
              "No Surprises                                             1\n",
              "T2E16 — Por que o rato roeu a roupa do rei de Roma?      1\n",
              "A Lua Q Eu T Dei                                         1\n",
              "Name: trackName, Length: 2000, dtype: int64"
            ]
          },
          "metadata": {
            "tags": []
          },
          "execution_count": 10
        }
      ]
    },
    {
      "cell_type": "code",
      "metadata": {
        "colab": {
          "base_uri": "https://localhost:8080/",
          "height": 445
        },
        "id": "2iq_RjOTu1iu",
        "outputId": "513771b8-9dad-40ee-b6ef-f3d170815c33"
      },
      "source": [
        "hist_final.groupby(hist_final['trackName']).agg(max).sort_values('msPlayed',ascending=False)"
      ],
      "execution_count": null,
      "outputs": [
        {
          "output_type": "execute_result",
          "data": {
            "text/html": [
              "<div>\n",
              "<style scoped>\n",
              "    .dataframe tbody tr th:only-of-type {\n",
              "        vertical-align: middle;\n",
              "    }\n",
              "\n",
              "    .dataframe tbody tr th {\n",
              "        vertical-align: top;\n",
              "    }\n",
              "\n",
              "    .dataframe thead th {\n",
              "        text-align: right;\n",
              "    }\n",
              "</style>\n",
              "<table border=\"1\" class=\"dataframe\">\n",
              "  <thead>\n",
              "    <tr style=\"text-align: right;\">\n",
              "      <th></th>\n",
              "      <th>endTime</th>\n",
              "      <th>artistName</th>\n",
              "      <th>msPlayed</th>\n",
              "    </tr>\n",
              "    <tr>\n",
              "      <th>trackName</th>\n",
              "      <th></th>\n",
              "      <th></th>\n",
              "      <th></th>\n",
              "    </tr>\n",
              "  </thead>\n",
              "  <tbody>\n",
              "    <tr>\n",
              "      <th>#6 - Como é estagiar no grupo Movile | Camila Monteiro, Analista de Employer Branding na Movile</th>\n",
              "      <td>2020-10-23 13:51</td>\n",
              "      <td>Estagiário Sênior</td>\n",
              "      <td>3064058</td>\n",
              "    </tr>\n",
              "    <tr>\n",
              "      <th>A Romantização do Desinteresse - Controle Y</th>\n",
              "      <td>2020-07-22 18:42</td>\n",
              "      <td>Controle Y</td>\n",
              "      <td>2894847</td>\n",
              "    </tr>\n",
              "    <tr>\n",
              "      <th>Episódio 20: A negação é importantíssima ao bem-estar</th>\n",
              "      <td>2020-10-10 00:43</td>\n",
              "      <td>Respondendo em Voz Alta</td>\n",
              "      <td>2441020</td>\n",
              "    </tr>\n",
              "    <tr>\n",
              "      <th>Episódio 15 – Pajubá</th>\n",
              "      <td>2020-07-29 18:21</td>\n",
              "      <td>Babel Podcast</td>\n",
              "      <td>2425076</td>\n",
              "    </tr>\n",
              "    <tr>\n",
              "      <th>T2E2 — Mijar no mar é ecossocialismo?</th>\n",
              "      <td>2020-12-22 13:46</td>\n",
              "      <td>Respondendo em Voz Alta</td>\n",
              "      <td>2308810</td>\n",
              "    </tr>\n",
              "    <tr>\n",
              "      <th>...</th>\n",
              "      <td>...</td>\n",
              "      <td>...</td>\n",
              "      <td>...</td>\n",
              "    </tr>\n",
              "    <tr>\n",
              "      <th>Out Of Reach</th>\n",
              "      <td>2020-09-20 09:28</td>\n",
              "      <td>Gabrielle</td>\n",
              "      <td>0</td>\n",
              "    </tr>\n",
              "    <tr>\n",
              "      <th>The Way You Look Tonight</th>\n",
              "      <td>2020-09-20 09:27</td>\n",
              "      <td>Rod Stewart</td>\n",
              "      <td>0</td>\n",
              "    </tr>\n",
              "    <tr>\n",
              "      <th>De Volta Pro Futuro</th>\n",
              "      <td>2020-12-15 02:59</td>\n",
              "      <td>Roupa Nova</td>\n",
              "      <td>0</td>\n",
              "    </tr>\n",
              "    <tr>\n",
              "      <th>Meu País, Chocolate, Não Quero Dinheiro (Só Quero Amar) [Ao Vivo II]</th>\n",
              "      <td>2020-11-20 04:31</td>\n",
              "      <td>Tim Maia</td>\n",
              "      <td>0</td>\n",
              "    </tr>\n",
              "    <tr>\n",
              "      <th>Fields Of Gold</th>\n",
              "      <td>2020-09-20 09:28</td>\n",
              "      <td>Sting</td>\n",
              "      <td>0</td>\n",
              "    </tr>\n",
              "  </tbody>\n",
              "</table>\n",
              "<p>2000 rows × 3 columns</p>\n",
              "</div>"
            ],
            "text/plain": [
              "                                                             endTime  ... msPlayed\n",
              "trackName                                                             ...         \n",
              "#6 - Como é estagiar no grupo Movile | Camila M...  2020-10-23 13:51  ...  3064058\n",
              "A Romantização do Desinteresse - Controle Y         2020-07-22 18:42  ...  2894847\n",
              "Episódio 20: A negação é importantíssima ao bem...  2020-10-10 00:43  ...  2441020\n",
              "Episódio 15 – Pajubá                                2020-07-29 18:21  ...  2425076\n",
              "T2E2 — Mijar no mar é ecossocialismo?               2020-12-22 13:46  ...  2308810\n",
              "...                                                              ...  ...      ...\n",
              "Out Of Reach                                        2020-09-20 09:28  ...        0\n",
              "The Way You Look Tonight                            2020-09-20 09:27  ...        0\n",
              "De Volta Pro Futuro                                 2020-12-15 02:59  ...        0\n",
              "Meu País, Chocolate, Não Quero Dinheiro (Só Que...  2020-11-20 04:31  ...        0\n",
              "Fields Of Gold                                      2020-09-20 09:28  ...        0\n",
              "\n",
              "[2000 rows x 3 columns]"
            ]
          },
          "metadata": {
            "tags": []
          },
          "execution_count": 11
        }
      ]
    },
    {
      "cell_type": "code",
      "metadata": {
        "colab": {
          "base_uri": "https://localhost:8080/"
        },
        "id": "hL9J9i6Su5HI",
        "outputId": "951ff44d-2db5-4e23-9608-4f835a000bbc"
      },
      "source": [
        "duracao = hist_final.groupby('trackName').min().msPlayed.sum()\n",
        "duracao"
      ],
      "execution_count": null,
      "outputs": [
        {
          "output_type": "execute_result",
          "data": {
            "text/plain": [
              "114926647"
            ]
          },
          "metadata": {
            "tags": []
          },
          "execution_count": 12
        }
      ]
    },
    {
      "cell_type": "code",
      "metadata": {
        "id": "11UDLCbLzVXs"
      },
      "source": [
        "hist_final['endTime']=pd.to_datetime(hist_final['endTime'])"
      ],
      "execution_count": null,
      "outputs": []
    },
    {
      "cell_type": "code",
      "metadata": {
        "id": "mbAWxxzhvz8b"
      },
      "source": [
        "hist_final['year']=pd.DatetimeIndex(hist_final['endTime']).year\n",
        "hist_final['month']=pd.DatetimeIndex(hist_final['endTime']).month\n",
        "hist_final['day']=pd.DatetimeIndex(hist_final['endTime']).day\n",
        "hist_final['day_name']=hist_final['endTime'].dt.day_name()\n",
        "\n",
        "\n"
      ],
      "execution_count": null,
      "outputs": []
    },
    {
      "cell_type": "code",
      "metadata": {
        "colab": {
          "base_uri": "https://localhost:8080/"
        },
        "id": "3y04Zpp204hu",
        "outputId": "1334f6ed-1e10-4086-9802-de9f496cd328"
      },
      "source": [
        "hist_final['day_name'].value_counts()"
      ],
      "execution_count": null,
      "outputs": [
        {
          "output_type": "execute_result",
          "data": {
            "text/plain": [
              "Thursday     4738\n",
              "Tuesday      3914\n",
              "Saturday     3719\n",
              "Sunday       3654\n",
              "Wednesday    3178\n",
              "Friday       3145\n",
              "Monday       2823\n",
              "Name: day_name, dtype: int64"
            ]
          },
          "metadata": {
            "tags": []
          },
          "execution_count": 15
        }
      ]
    },
    {
      "cell_type": "code",
      "metadata": {
        "colab": {
          "base_uri": "https://localhost:8080/",
          "height": 501
        },
        "id": "Ex7fPaZJl0dw",
        "outputId": "8fba9bae-edc3-4558-ab94-40b99e8d2657"
      },
      "source": [
        "hist_final['day_name'].value_counts().sort_values().plot(kind='barh',figsize=(15,8))"
      ],
      "execution_count": null,
      "outputs": [
        {
          "output_type": "execute_result",
          "data": {
            "text/plain": [
              "<matplotlib.axes._subplots.AxesSubplot at 0x7f020732fad0>"
            ]
          },
          "metadata": {
            "tags": []
          },
          "execution_count": 16
        },
        {
          "output_type": "display_data",
          "data": {
            "image/png": "[encoded data removed]",
            "text/plain": [
              "<Figure size 1080x576 with 1 Axes>"
            ]
          },
          "metadata": {
            "tags": [],
            "needs_background": "light"
          }
        }
      ]
    },
    {
      "cell_type": "code",
      "metadata": {
        "id": "7Rveh4iI4x7P"
      },
      "source": [
        "def get_part_of_day(x):\n",
        "    if (x > 4) and (x <= 8):\n",
        "        return 'Early Morning'\n",
        "    elif (x > 8) and (x <= 12 ):\n",
        "        return 'Morning'\n",
        "    elif (x > 12) and (x <= 16):\n",
        "        return'Noon'\n",
        "    elif (x > 16) and (x <= 20) :\n",
        "        return 'Evening'\n",
        "    elif (x > 20) and (x <= 24):\n",
        "        return'Night'\n",
        "    elif (x <= 4):\n",
        "        return'Late Night'\n",
        "\n",
        "hist_final['part_of_day'] = hist_final['endTime'].dt.hour.apply(get_part_of_day)"
      ],
      "execution_count": null,
      "outputs": []
    },
    {
      "cell_type": "code",
      "metadata": {
        "colab": {
          "base_uri": "https://localhost:8080/",
          "height": 202
        },
        "id": "230GLYQR5BrA",
        "outputId": "39fe2b37-7cd0-4176-c1f6-597b714b98b3"
      },
      "source": [
        "# mudando valores coluna mês para seus devidos nomes\n",
        "month = {\t\n",
        "    1:'January',\n",
        "\t\t2:'February',\n",
        "\t\t3:'March',\n",
        "\t\t4:'April',\n",
        "\t\t5:'May',\n",
        "\t\t6:'June',\n",
        "\t\t7:'July',\n",
        "\t\t8:'August',\n",
        "\t\t9:'September',\n",
        "\t\t10:'October',\n",
        "\t\t11:'November',\n",
        "\t\t12:'December'\t\t\n",
        "}\n",
        "\n",
        "hist_final[\"month\"].replace(month, inplace=True)\n",
        "hist_final.head()"
      ],
      "execution_count": null,
      "outputs": [
        {
          "output_type": "execute_result",
          "data": {
            "text/html": [
              "<div>\n",
              "<style scoped>\n",
              "    .dataframe tbody tr th:only-of-type {\n",
              "        vertical-align: middle;\n",
              "    }\n",
              "\n",
              "    .dataframe tbody tr th {\n",
              "        vertical-align: top;\n",
              "    }\n",
              "\n",
              "    .dataframe thead th {\n",
              "        text-align: right;\n",
              "    }\n",
              "</style>\n",
              "<table border=\"1\" class=\"dataframe\">\n",
              "  <thead>\n",
              "    <tr style=\"text-align: right;\">\n",
              "      <th></th>\n",
              "      <th>endTime</th>\n",
              "      <th>artistName</th>\n",
              "      <th>trackName</th>\n",
              "      <th>msPlayed</th>\n",
              "      <th>year</th>\n",
              "      <th>month</th>\n",
              "      <th>day</th>\n",
              "      <th>day_name</th>\n",
              "      <th>part_of_day</th>\n",
              "    </tr>\n",
              "  </thead>\n",
              "  <tbody>\n",
              "    <tr>\n",
              "      <th>0</th>\n",
              "      <td>2020-07-18 00:01:00</td>\n",
              "      <td>Metric</td>\n",
              "      <td>Gimme Sympathy - Acoustic</td>\n",
              "      <td>207040</td>\n",
              "      <td>2020</td>\n",
              "      <td>July</td>\n",
              "      <td>18</td>\n",
              "      <td>Saturday</td>\n",
              "      <td>Late Night</td>\n",
              "    </tr>\n",
              "    <tr>\n",
              "      <th>1</th>\n",
              "      <td>2020-07-18 00:04:00</td>\n",
              "      <td>Metric</td>\n",
              "      <td>Gimme Sympathy - Acoustic</td>\n",
              "      <td>207040</td>\n",
              "      <td>2020</td>\n",
              "      <td>July</td>\n",
              "      <td>18</td>\n",
              "      <td>Saturday</td>\n",
              "      <td>Late Night</td>\n",
              "    </tr>\n",
              "    <tr>\n",
              "      <th>2</th>\n",
              "      <td>2020-07-18 00:06:00</td>\n",
              "      <td>Mirah</td>\n",
              "      <td>Special Death</td>\n",
              "      <td>96810</td>\n",
              "      <td>2020</td>\n",
              "      <td>July</td>\n",
              "      <td>18</td>\n",
              "      <td>Saturday</td>\n",
              "      <td>Late Night</td>\n",
              "    </tr>\n",
              "    <tr>\n",
              "      <th>3</th>\n",
              "      <td>2020-07-18 00:07:00</td>\n",
              "      <td>Beck</td>\n",
              "      <td>Ramona</td>\n",
              "      <td>45210</td>\n",
              "      <td>2020</td>\n",
              "      <td>July</td>\n",
              "      <td>18</td>\n",
              "      <td>Saturday</td>\n",
              "      <td>Late Night</td>\n",
              "    </tr>\n",
              "    <tr>\n",
              "      <th>4</th>\n",
              "      <td>2020-07-18 00:11:00</td>\n",
              "      <td>The Bluetones</td>\n",
              "      <td>Sleazy Bed Track</td>\n",
              "      <td>19747</td>\n",
              "      <td>2020</td>\n",
              "      <td>July</td>\n",
              "      <td>18</td>\n",
              "      <td>Saturday</td>\n",
              "      <td>Late Night</td>\n",
              "    </tr>\n",
              "  </tbody>\n",
              "</table>\n",
              "</div>"
            ],
            "text/plain": [
              "              endTime     artistName  ...  day_name  part_of_day\n",
              "0 2020-07-18 00:01:00         Metric  ...  Saturday   Late Night\n",
              "1 2020-07-18 00:04:00         Metric  ...  Saturday   Late Night\n",
              "2 2020-07-18 00:06:00          Mirah  ...  Saturday   Late Night\n",
              "3 2020-07-18 00:07:00           Beck  ...  Saturday   Late Night\n",
              "4 2020-07-18 00:11:00  The Bluetones  ...  Saturday   Late Night\n",
              "\n",
              "[5 rows x 9 columns]"
            ]
          },
          "metadata": {
            "tags": []
          },
          "execution_count": 18
        }
      ]
    },
    {
      "cell_type": "code",
      "metadata": {
        "colab": {
          "base_uri": "https://localhost:8080/"
        },
        "id": "kVkjctBIlbXz",
        "outputId": "83ca20f1-8080-46bd-c3a0-993c087f5269"
      },
      "source": [
        "hist_final['trackName'].value_counts().head(10)"
      ],
      "execution_count": null,
      "outputs": [
        {
          "output_type": "execute_result",
          "data": {
            "text/plain": [
              "Circles                       194\n",
              "I Ran (So Far Away)           190\n",
              "Major Tom - Coming Home       139\n",
              "Bad Guy                       137\n",
              "I Was Made For Lovin' You     132\n",
              "Dancing Queen                 124\n",
              "I Touch Myself                123\n",
              "Palavras No Corpo             118\n",
              "Quando Bate Aquela Saudade    111\n",
              "Mamma Mia                     108\n",
              "Name: trackName, dtype: int64"
            ]
          },
          "metadata": {
            "tags": []
          },
          "execution_count": 77
        }
      ]
    },
    {
      "cell_type": "code",
      "metadata": {
        "colab": {
          "base_uri": "https://localhost:8080/",
          "height": 501
        },
        "id": "sLtdcWjrlo5y",
        "outputId": "9b7d25b4-a7d5-4074-ecfc-baa5dde13e8d"
      },
      "source": [
        "hist_final['trackName'].value_counts().head().plot(kind='bar',figsize=(15,8),rot=0)"
      ],
      "execution_count": null,
      "outputs": [
        {
          "output_type": "execute_result",
          "data": {
            "text/plain": [
              "<matplotlib.axes._subplots.AxesSubplot at 0x7f0207357f90>"
            ]
          },
          "metadata": {
            "tags": []
          },
          "execution_count": 20
        },
        {
          "output_type": "display_data",
          "data": {
            "image/png": "[encoded data removed]",
            "text/plain": [
              "<Figure size 1080x576 with 1 Axes>"
            ]
          },
          "metadata": {
            "tags": [],
            "needs_background": "light"
          }
        }
      ]
    },
    {
      "cell_type": "code",
      "metadata": {
        "id": "r7w7tEt85M0R",
        "colab": {
          "base_uri": "https://localhost:8080/"
        },
        "outputId": "2346c61d-d4b0-47c6-d350-e0ea3ccbb07a"
      },
      "source": [
        "hist_final['part_of_day'].value_counts()"
      ],
      "execution_count": null,
      "outputs": [
        {
          "output_type": "execute_result",
          "data": {
            "text/plain": [
              "Late Night       7824\n",
              "Evening          5092\n",
              "Night            4946\n",
              "Noon             3549\n",
              "Early Morning    1929\n",
              "Morning          1831\n",
              "Name: part_of_day, dtype: int64"
            ]
          },
          "metadata": {
            "tags": []
          },
          "execution_count": 21
        }
      ]
    },
    {
      "cell_type": "code",
      "metadata": {
        "colab": {
          "base_uri": "https://localhost:8080/",
          "height": 501
        },
        "id": "Vahs7W2ClGmU",
        "outputId": "069bb882-0788-4ba3-9e29-0f08ef493711"
      },
      "source": [
        "hist_final['part_of_day'].value_counts().plot(kind='bar',figsize=(15,8),rot=0)"
      ],
      "execution_count": null,
      "outputs": [
        {
          "output_type": "execute_result",
          "data": {
            "text/plain": [
              "<matplotlib.axes._subplots.AxesSubplot at 0x7f02072fcd90>"
            ]
          },
          "metadata": {
            "tags": []
          },
          "execution_count": 22
        },
        {
          "output_type": "display_data",
          "data": {
            "image/png": "[encoded data removed]",
            "text/plain": [
              "<Figure size 1080x576 with 1 Axes>"
            ]
          },
          "metadata": {
            "tags": [],
            "needs_background": "light"
          }
        }
      ]
    },
    {
      "cell_type": "code",
      "metadata": {
        "id": "TZT8_h5aJO9F",
        "colab": {
          "base_uri": "https://localhost:8080/"
        },
        "outputId": "90ec6a12-aec3-471d-8469-df29e5b3d265"
      },
      "source": [
        "with open('/content/drive/MyDrive/3_VAMO_AI/Dados_Natascha/Dados_Spotify_Descomprimido/MyData/YourLibrary.json', encoding=\"utf8\") as f:\n",
        "    biblioteca=json.load(f)\n",
        "\n",
        "type(biblioteca)"
      ],
      "execution_count": null,
      "outputs": [
        {
          "output_type": "execute_result",
          "data": {
            "text/plain": [
              "dict"
            ]
          },
          "metadata": {
            "tags": []
          },
          "execution_count": 23
        }
      ]
    },
    {
      "cell_type": "code",
      "metadata": {
        "id": "DsO8Tr_sYKSg",
        "colab": {
          "base_uri": "https://localhost:8080/"
        },
        "outputId": "5d7c3f45-28ba-4620-b27d-bb9068f9970d"
      },
      "source": [
        "biblioteca.keys()"
      ],
      "execution_count": null,
      "outputs": [
        {
          "output_type": "execute_result",
          "data": {
            "text/plain": [
              "dict_keys(['tracks', 'albums', 'shows', 'episodes', 'bannedTracks', 'artists', 'bannedArtists', 'other'])"
            ]
          },
          "metadata": {
            "tags": []
          },
          "execution_count": 24
        }
      ]
    },
    {
      "cell_type": "code",
      "metadata": {
        "id": "XOJORQxCumvE"
      },
      "source": [
        "faixas=pd.json_normalize(biblioteca['tracks'])\n",
        "albuns=pd.json_normalize(biblioteca['albums'])\n",
        "podcasts=pd.json_normalize(biblioteca['shows'])\n",
        "artistas=pd.json_normalize(biblioteca['artists'])"
      ],
      "execution_count": null,
      "outputs": []
    },
    {
      "cell_type": "code",
      "metadata": {
        "id": "X5KcOjnRzIvg",
        "colab": {
          "base_uri": "https://localhost:8080/"
        },
        "outputId": "4a3c5221-ff69-48a9-9d5c-47cfb31e518b"
      },
      "source": [
        "with open('/content/drive/MyDrive/3_VAMO_AI/Dados_Natascha/Dados_Spotify_Descomprimido/MyData/SearchQueries.json', encoding=\"utf8\") as f:\n",
        "   pesquisa=json.load(f)\n",
        "\n",
        "type(pesquisa)"
      ],
      "execution_count": null,
      "outputs": [
        {
          "output_type": "execute_result",
          "data": {
            "text/plain": [
              "list"
            ]
          },
          "metadata": {
            "tags": []
          },
          "execution_count": 26
        }
      ]
    },
    {
      "cell_type": "code",
      "metadata": {
        "id": "2-h3ibgmzk2R",
        "colab": {
          "base_uri": "https://localhost:8080/"
        },
        "outputId": "535a73eb-d8fb-4c72-f6d0-1df475dc6af6"
      },
      "source": [
        "pesquisa_dict={\n",
        "    'platform':[],\n",
        "    'searchTime':[],\n",
        "    'searchInteractionURIs':[]\n",
        "\n",
        "}\n",
        "for i in pesquisa:\n",
        "  for d in i:\n",
        "    pesquisa_dict['platform'].append(i['platform'])\n",
        "    pesquisa_dict['searchTime'].append(i['searchTime'])\n",
        "    pesquisa_dict['searchInteractionURIs'].append(i['searchInteractionURIs'])\n",
        "pesquisa_dict"
      ],
      "execution_count": null,
      "outputs": [
        {
          "output_type": "execute_result",
          "data": {
            "text/plain": [
              "{'platform': ['ANDROID',\n",
              "  'ANDROID',\n",
              "  'ANDROID',\n",
              "  'ANDROID',\n",
              "  'ANDROID',\n",
              "  'ANDROID',\n",
              "  'ANDROID',\n",
              "  'ANDROID',\n",
              "  'ANDROID',\n",
              "  'ANDROID',\n",
              "  'ANDROID',\n",
              "  'ANDROID',\n",
              "  'ANDROID',\n",
              "  'ANDROID',\n",
              "  'ANDROID',\n",
              "  'ANDROID',\n",
              "  'ANDROID',\n",
              "  'ANDROID',\n",
              "  'ANDROID',\n",
              "  'ANDROID'],\n",
              " 'searchInteractionURIs': [['spotify:track:0Fyj9w0HVfjoxm9S8nGClt'],\n",
              "  ['spotify:track:0Fyj9w0HVfjoxm9S8nGClt'],\n",
              "  ['spotify:track:0Fyj9w0HVfjoxm9S8nGClt'],\n",
              "  ['spotify:track:0Fyj9w0HVfjoxm9S8nGClt'],\n",
              "  ['spotify:track:1t5ER6twfytz8d40UAy5nN'],\n",
              "  ['spotify:track:1t5ER6twfytz8d40UAy5nN'],\n",
              "  ['spotify:track:1t5ER6twfytz8d40UAy5nN'],\n",
              "  ['spotify:track:1t5ER6twfytz8d40UAy5nN'],\n",
              "  ['spotify:artist:1b8kpp4DUwt1hWaxTiWQhD'],\n",
              "  ['spotify:artist:1b8kpp4DUwt1hWaxTiWQhD'],\n",
              "  ['spotify:artist:1b8kpp4DUwt1hWaxTiWQhD'],\n",
              "  ['spotify:artist:1b8kpp4DUwt1hWaxTiWQhD'],\n",
              "  ['spotify:track:4cZGdje7UXxBsJViy2Cs8Z'],\n",
              "  ['spotify:track:4cZGdje7UXxBsJViy2Cs8Z'],\n",
              "  ['spotify:track:4cZGdje7UXxBsJViy2Cs8Z'],\n",
              "  ['spotify:track:4cZGdje7UXxBsJViy2Cs8Z'],\n",
              "  ['spotify:track:1yEjMahIbkCRvoh8szeJzm'],\n",
              "  ['spotify:track:1yEjMahIbkCRvoh8szeJzm'],\n",
              "  ['spotify:track:1yEjMahIbkCRvoh8szeJzm'],\n",
              "  ['spotify:track:1yEjMahIbkCRvoh8szeJzm']],\n",
              " 'searchTime': ['2021-06-20T07:22:57.666Z[UTC]',\n",
              "  '2021-06-20T07:22:57.666Z[UTC]',\n",
              "  '2021-06-20T07:22:57.666Z[UTC]',\n",
              "  '2021-06-20T07:22:57.666Z[UTC]',\n",
              "  '2021-06-25T03:17:01.581Z[UTC]',\n",
              "  '2021-06-25T03:17:01.581Z[UTC]',\n",
              "  '2021-06-25T03:17:01.581Z[UTC]',\n",
              "  '2021-06-25T03:17:01.581Z[UTC]',\n",
              "  '2021-06-29T04:41:14.943Z[UTC]',\n",
              "  '2021-06-29T04:41:14.943Z[UTC]',\n",
              "  '2021-06-29T04:41:14.943Z[UTC]',\n",
              "  '2021-06-29T04:41:14.943Z[UTC]',\n",
              "  '2021-07-02T15:03:31.927Z[UTC]',\n",
              "  '2021-07-02T15:03:31.927Z[UTC]',\n",
              "  '2021-07-02T15:03:31.927Z[UTC]',\n",
              "  '2021-07-02T15:03:31.927Z[UTC]',\n",
              "  '2021-07-07T14:22:28.496Z[UTC]',\n",
              "  '2021-07-07T14:22:28.496Z[UTC]',\n",
              "  '2021-07-07T14:22:28.496Z[UTC]',\n",
              "  '2021-07-07T14:22:28.496Z[UTC]']}"
            ]
          },
          "metadata": {
            "tags": []
          },
          "execution_count": 27
        }
      ]
    },
    {
      "cell_type": "code",
      "metadata": {
        "id": "1hhYb0t61Gjr",
        "colab": {
          "base_uri": "https://localhost:8080/",
          "height": 662
        },
        "outputId": "8fe64d8c-21c8-4424-8db6-6afa10dfb5be"
      },
      "source": [
        "df=pd.DataFrame(pesquisa_dict)\n",
        "df"
      ],
      "execution_count": null,
      "outputs": [
        {
          "output_type": "execute_result",
          "data": {
            "text/html": [
              "<div>\n",
              "<style scoped>\n",
              "    .dataframe tbody tr th:only-of-type {\n",
              "        vertical-align: middle;\n",
              "    }\n",
              "\n",
              "    .dataframe tbody tr th {\n",
              "        vertical-align: top;\n",
              "    }\n",
              "\n",
              "    .dataframe thead th {\n",
              "        text-align: right;\n",
              "    }\n",
              "</style>\n",
              "<table border=\"1\" class=\"dataframe\">\n",
              "  <thead>\n",
              "    <tr style=\"text-align: right;\">\n",
              "      <th></th>\n",
              "      <th>platform</th>\n",
              "      <th>searchTime</th>\n",
              "      <th>searchInteractionURIs</th>\n",
              "    </tr>\n",
              "  </thead>\n",
              "  <tbody>\n",
              "    <tr>\n",
              "      <th>0</th>\n",
              "      <td>ANDROID</td>\n",
              "      <td>2021-06-20T07:22:57.666Z[UTC]</td>\n",
              "      <td>[spotify:track:0Fyj9w0HVfjoxm9S8nGClt]</td>\n",
              "    </tr>\n",
              "    <tr>\n",
              "      <th>1</th>\n",
              "      <td>ANDROID</td>\n",
              "      <td>2021-06-20T07:22:57.666Z[UTC]</td>\n",
              "      <td>[spotify:track:0Fyj9w0HVfjoxm9S8nGClt]</td>\n",
              "    </tr>\n",
              "    <tr>\n",
              "      <th>2</th>\n",
              "      <td>ANDROID</td>\n",
              "      <td>2021-06-20T07:22:57.666Z[UTC]</td>\n",
              "      <td>[spotify:track:0Fyj9w0HVfjoxm9S8nGClt]</td>\n",
              "    </tr>\n",
              "    <tr>\n",
              "      <th>3</th>\n",
              "      <td>ANDROID</td>\n",
              "      <td>2021-06-20T07:22:57.666Z[UTC]</td>\n",
              "      <td>[spotify:track:0Fyj9w0HVfjoxm9S8nGClt]</td>\n",
              "    </tr>\n",
              "    <tr>\n",
              "      <th>4</th>\n",
              "      <td>ANDROID</td>\n",
              "      <td>2021-06-25T03:17:01.581Z[UTC]</td>\n",
              "      <td>[spotify:track:1t5ER6twfytz8d40UAy5nN]</td>\n",
              "    </tr>\n",
              "    <tr>\n",
              "      <th>5</th>\n",
              "      <td>ANDROID</td>\n",
              "      <td>2021-06-25T03:17:01.581Z[UTC]</td>\n",
              "      <td>[spotify:track:1t5ER6twfytz8d40UAy5nN]</td>\n",
              "    </tr>\n",
              "    <tr>\n",
              "      <th>6</th>\n",
              "      <td>ANDROID</td>\n",
              "      <td>2021-06-25T03:17:01.581Z[UTC]</td>\n",
              "      <td>[spotify:track:1t5ER6twfytz8d40UAy5nN]</td>\n",
              "    </tr>\n",
              "    <tr>\n",
              "      <th>7</th>\n",
              "      <td>ANDROID</td>\n",
              "      <td>2021-06-25T03:17:01.581Z[UTC]</td>\n",
              "      <td>[spotify:track:1t5ER6twfytz8d40UAy5nN]</td>\n",
              "    </tr>\n",
              "    <tr>\n",
              "      <th>8</th>\n",
              "      <td>ANDROID</td>\n",
              "      <td>2021-06-29T04:41:14.943Z[UTC]</td>\n",
              "      <td>[spotify:artist:1b8kpp4DUwt1hWaxTiWQhD]</td>\n",
              "    </tr>\n",
              "    <tr>\n",
              "      <th>9</th>\n",
              "      <td>ANDROID</td>\n",
              "      <td>2021-06-29T04:41:14.943Z[UTC]</td>\n",
              "      <td>[spotify:artist:1b8kpp4DUwt1hWaxTiWQhD]</td>\n",
              "    </tr>\n",
              "    <tr>\n",
              "      <th>10</th>\n",
              "      <td>ANDROID</td>\n",
              "      <td>2021-06-29T04:41:14.943Z[UTC]</td>\n",
              "      <td>[spotify:artist:1b8kpp4DUwt1hWaxTiWQhD]</td>\n",
              "    </tr>\n",
              "    <tr>\n",
              "      <th>11</th>\n",
              "      <td>ANDROID</td>\n",
              "      <td>2021-06-29T04:41:14.943Z[UTC]</td>\n",
              "      <td>[spotify:artist:1b8kpp4DUwt1hWaxTiWQhD]</td>\n",
              "    </tr>\n",
              "    <tr>\n",
              "      <th>12</th>\n",
              "      <td>ANDROID</td>\n",
              "      <td>2021-07-02T15:03:31.927Z[UTC]</td>\n",
              "      <td>[spotify:track:4cZGdje7UXxBsJViy2Cs8Z]</td>\n",
              "    </tr>\n",
              "    <tr>\n",
              "      <th>13</th>\n",
              "      <td>ANDROID</td>\n",
              "      <td>2021-07-02T15:03:31.927Z[UTC]</td>\n",
              "      <td>[spotify:track:4cZGdje7UXxBsJViy2Cs8Z]</td>\n",
              "    </tr>\n",
              "    <tr>\n",
              "      <th>14</th>\n",
              "      <td>ANDROID</td>\n",
              "      <td>2021-07-02T15:03:31.927Z[UTC]</td>\n",
              "      <td>[spotify:track:4cZGdje7UXxBsJViy2Cs8Z]</td>\n",
              "    </tr>\n",
              "    <tr>\n",
              "      <th>15</th>\n",
              "      <td>ANDROID</td>\n",
              "      <td>2021-07-02T15:03:31.927Z[UTC]</td>\n",
              "      <td>[spotify:track:4cZGdje7UXxBsJViy2Cs8Z]</td>\n",
              "    </tr>\n",
              "    <tr>\n",
              "      <th>16</th>\n",
              "      <td>ANDROID</td>\n",
              "      <td>2021-07-07T14:22:28.496Z[UTC]</td>\n",
              "      <td>[spotify:track:1yEjMahIbkCRvoh8szeJzm]</td>\n",
              "    </tr>\n",
              "    <tr>\n",
              "      <th>17</th>\n",
              "      <td>ANDROID</td>\n",
              "      <td>2021-07-07T14:22:28.496Z[UTC]</td>\n",
              "      <td>[spotify:track:1yEjMahIbkCRvoh8szeJzm]</td>\n",
              "    </tr>\n",
              "    <tr>\n",
              "      <th>18</th>\n",
              "      <td>ANDROID</td>\n",
              "      <td>2021-07-07T14:22:28.496Z[UTC]</td>\n",
              "      <td>[spotify:track:1yEjMahIbkCRvoh8szeJzm]</td>\n",
              "    </tr>\n",
              "    <tr>\n",
              "      <th>19</th>\n",
              "      <td>ANDROID</td>\n",
              "      <td>2021-07-07T14:22:28.496Z[UTC]</td>\n",
              "      <td>[spotify:track:1yEjMahIbkCRvoh8szeJzm]</td>\n",
              "    </tr>\n",
              "  </tbody>\n",
              "</table>\n",
              "</div>"
            ],
            "text/plain": [
              "   platform  ...                    searchInteractionURIs\n",
              "0   ANDROID  ...   [spotify:track:0Fyj9w0HVfjoxm9S8nGClt]\n",
              "1   ANDROID  ...   [spotify:track:0Fyj9w0HVfjoxm9S8nGClt]\n",
              "2   ANDROID  ...   [spotify:track:0Fyj9w0HVfjoxm9S8nGClt]\n",
              "3   ANDROID  ...   [spotify:track:0Fyj9w0HVfjoxm9S8nGClt]\n",
              "4   ANDROID  ...   [spotify:track:1t5ER6twfytz8d40UAy5nN]\n",
              "5   ANDROID  ...   [spotify:track:1t5ER6twfytz8d40UAy5nN]\n",
              "6   ANDROID  ...   [spotify:track:1t5ER6twfytz8d40UAy5nN]\n",
              "7   ANDROID  ...   [spotify:track:1t5ER6twfytz8d40UAy5nN]\n",
              "8   ANDROID  ...  [spotify:artist:1b8kpp4DUwt1hWaxTiWQhD]\n",
              "9   ANDROID  ...  [spotify:artist:1b8kpp4DUwt1hWaxTiWQhD]\n",
              "10  ANDROID  ...  [spotify:artist:1b8kpp4DUwt1hWaxTiWQhD]\n",
              "11  ANDROID  ...  [spotify:artist:1b8kpp4DUwt1hWaxTiWQhD]\n",
              "12  ANDROID  ...   [spotify:track:4cZGdje7UXxBsJViy2Cs8Z]\n",
              "13  ANDROID  ...   [spotify:track:4cZGdje7UXxBsJViy2Cs8Z]\n",
              "14  ANDROID  ...   [spotify:track:4cZGdje7UXxBsJViy2Cs8Z]\n",
              "15  ANDROID  ...   [spotify:track:4cZGdje7UXxBsJViy2Cs8Z]\n",
              "16  ANDROID  ...   [spotify:track:1yEjMahIbkCRvoh8szeJzm]\n",
              "17  ANDROID  ...   [spotify:track:1yEjMahIbkCRvoh8szeJzm]\n",
              "18  ANDROID  ...   [spotify:track:1yEjMahIbkCRvoh8szeJzm]\n",
              "19  ANDROID  ...   [spotify:track:1yEjMahIbkCRvoh8szeJzm]\n",
              "\n",
              "[20 rows x 3 columns]"
            ]
          },
          "metadata": {
            "tags": []
          },
          "execution_count": 28
        }
      ]
    },
    {
      "cell_type": "code",
      "metadata": {
        "id": "cKF2LDy61Upn",
        "colab": {
          "base_uri": "https://localhost:8080/",
          "height": 662
        },
        "outputId": "31f963d9-c222-4510-c489-5ca2bf8e4241"
      },
      "source": [
        "df.explode('searchInteractionURIs')"
      ],
      "execution_count": null,
      "outputs": [
        {
          "output_type": "execute_result",
          "data": {
            "text/html": [
              "<div>\n",
              "<style scoped>\n",
              "    .dataframe tbody tr th:only-of-type {\n",
              "        vertical-align: middle;\n",
              "    }\n",
              "\n",
              "    .dataframe tbody tr th {\n",
              "        vertical-align: top;\n",
              "    }\n",
              "\n",
              "    .dataframe thead th {\n",
              "        text-align: right;\n",
              "    }\n",
              "</style>\n",
              "<table border=\"1\" class=\"dataframe\">\n",
              "  <thead>\n",
              "    <tr style=\"text-align: right;\">\n",
              "      <th></th>\n",
              "      <th>platform</th>\n",
              "      <th>searchTime</th>\n",
              "      <th>searchInteractionURIs</th>\n",
              "    </tr>\n",
              "  </thead>\n",
              "  <tbody>\n",
              "    <tr>\n",
              "      <th>0</th>\n",
              "      <td>ANDROID</td>\n",
              "      <td>2021-06-20T07:22:57.666Z[UTC]</td>\n",
              "      <td>spotify:track:0Fyj9w0HVfjoxm9S8nGClt</td>\n",
              "    </tr>\n",
              "    <tr>\n",
              "      <th>1</th>\n",
              "      <td>ANDROID</td>\n",
              "      <td>2021-06-20T07:22:57.666Z[UTC]</td>\n",
              "      <td>spotify:track:0Fyj9w0HVfjoxm9S8nGClt</td>\n",
              "    </tr>\n",
              "    <tr>\n",
              "      <th>2</th>\n",
              "      <td>ANDROID</td>\n",
              "      <td>2021-06-20T07:22:57.666Z[UTC]</td>\n",
              "      <td>spotify:track:0Fyj9w0HVfjoxm9S8nGClt</td>\n",
              "    </tr>\n",
              "    <tr>\n",
              "      <th>3</th>\n",
              "      <td>ANDROID</td>\n",
              "      <td>2021-06-20T07:22:57.666Z[UTC]</td>\n",
              "      <td>spotify:track:0Fyj9w0HVfjoxm9S8nGClt</td>\n",
              "    </tr>\n",
              "    <tr>\n",
              "      <th>4</th>\n",
              "      <td>ANDROID</td>\n",
              "      <td>2021-06-25T03:17:01.581Z[UTC]</td>\n",
              "      <td>spotify:track:1t5ER6twfytz8d40UAy5nN</td>\n",
              "    </tr>\n",
              "    <tr>\n",
              "      <th>5</th>\n",
              "      <td>ANDROID</td>\n",
              "      <td>2021-06-25T03:17:01.581Z[UTC]</td>\n",
              "      <td>spotify:track:1t5ER6twfytz8d40UAy5nN</td>\n",
              "    </tr>\n",
              "    <tr>\n",
              "      <th>6</th>\n",
              "      <td>ANDROID</td>\n",
              "      <td>2021-06-25T03:17:01.581Z[UTC]</td>\n",
              "      <td>spotify:track:1t5ER6twfytz8d40UAy5nN</td>\n",
              "    </tr>\n",
              "    <tr>\n",
              "      <th>7</th>\n",
              "      <td>ANDROID</td>\n",
              "      <td>2021-06-25T03:17:01.581Z[UTC]</td>\n",
              "      <td>spotify:track:1t5ER6twfytz8d40UAy5nN</td>\n",
              "    </tr>\n",
              "    <tr>\n",
              "      <th>8</th>\n",
              "      <td>ANDROID</td>\n",
              "      <td>2021-06-29T04:41:14.943Z[UTC]</td>\n",
              "      <td>spotify:artist:1b8kpp4DUwt1hWaxTiWQhD</td>\n",
              "    </tr>\n",
              "    <tr>\n",
              "      <th>9</th>\n",
              "      <td>ANDROID</td>\n",
              "      <td>2021-06-29T04:41:14.943Z[UTC]</td>\n",
              "      <td>spotify:artist:1b8kpp4DUwt1hWaxTiWQhD</td>\n",
              "    </tr>\n",
              "    <tr>\n",
              "      <th>10</th>\n",
              "      <td>ANDROID</td>\n",
              "      <td>2021-06-29T04:41:14.943Z[UTC]</td>\n",
              "      <td>spotify:artist:1b8kpp4DUwt1hWaxTiWQhD</td>\n",
              "    </tr>\n",
              "    <tr>\n",
              "      <th>11</th>\n",
              "      <td>ANDROID</td>\n",
              "      <td>2021-06-29T04:41:14.943Z[UTC]</td>\n",
              "      <td>spotify:artist:1b8kpp4DUwt1hWaxTiWQhD</td>\n",
              "    </tr>\n",
              "    <tr>\n",
              "      <th>12</th>\n",
              "      <td>ANDROID</td>\n",
              "      <td>2021-07-02T15:03:31.927Z[UTC]</td>\n",
              "      <td>spotify:track:4cZGdje7UXxBsJViy2Cs8Z</td>\n",
              "    </tr>\n",
              "    <tr>\n",
              "      <th>13</th>\n",
              "      <td>ANDROID</td>\n",
              "      <td>2021-07-02T15:03:31.927Z[UTC]</td>\n",
              "      <td>spotify:track:4cZGdje7UXxBsJViy2Cs8Z</td>\n",
              "    </tr>\n",
              "    <tr>\n",
              "      <th>14</th>\n",
              "      <td>ANDROID</td>\n",
              "      <td>2021-07-02T15:03:31.927Z[UTC]</td>\n",
              "      <td>spotify:track:4cZGdje7UXxBsJViy2Cs8Z</td>\n",
              "    </tr>\n",
              "    <tr>\n",
              "      <th>15</th>\n",
              "      <td>ANDROID</td>\n",
              "      <td>2021-07-02T15:03:31.927Z[UTC]</td>\n",
              "      <td>spotify:track:4cZGdje7UXxBsJViy2Cs8Z</td>\n",
              "    </tr>\n",
              "    <tr>\n",
              "      <th>16</th>\n",
              "      <td>ANDROID</td>\n",
              "      <td>2021-07-07T14:22:28.496Z[UTC]</td>\n",
              "      <td>spotify:track:1yEjMahIbkCRvoh8szeJzm</td>\n",
              "    </tr>\n",
              "    <tr>\n",
              "      <th>17</th>\n",
              "      <td>ANDROID</td>\n",
              "      <td>2021-07-07T14:22:28.496Z[UTC]</td>\n",
              "      <td>spotify:track:1yEjMahIbkCRvoh8szeJzm</td>\n",
              "    </tr>\n",
              "    <tr>\n",
              "      <th>18</th>\n",
              "      <td>ANDROID</td>\n",
              "      <td>2021-07-07T14:22:28.496Z[UTC]</td>\n",
              "      <td>spotify:track:1yEjMahIbkCRvoh8szeJzm</td>\n",
              "    </tr>\n",
              "    <tr>\n",
              "      <th>19</th>\n",
              "      <td>ANDROID</td>\n",
              "      <td>2021-07-07T14:22:28.496Z[UTC]</td>\n",
              "      <td>spotify:track:1yEjMahIbkCRvoh8szeJzm</td>\n",
              "    </tr>\n",
              "  </tbody>\n",
              "</table>\n",
              "</div>"
            ],
            "text/plain": [
              "   platform  ...                  searchInteractionURIs\n",
              "0   ANDROID  ...   spotify:track:0Fyj9w0HVfjoxm9S8nGClt\n",
              "1   ANDROID  ...   spotify:track:0Fyj9w0HVfjoxm9S8nGClt\n",
              "2   ANDROID  ...   spotify:track:0Fyj9w0HVfjoxm9S8nGClt\n",
              "3   ANDROID  ...   spotify:track:0Fyj9w0HVfjoxm9S8nGClt\n",
              "4   ANDROID  ...   spotify:track:1t5ER6twfytz8d40UAy5nN\n",
              "5   ANDROID  ...   spotify:track:1t5ER6twfytz8d40UAy5nN\n",
              "6   ANDROID  ...   spotify:track:1t5ER6twfytz8d40UAy5nN\n",
              "7   ANDROID  ...   spotify:track:1t5ER6twfytz8d40UAy5nN\n",
              "8   ANDROID  ...  spotify:artist:1b8kpp4DUwt1hWaxTiWQhD\n",
              "9   ANDROID  ...  spotify:artist:1b8kpp4DUwt1hWaxTiWQhD\n",
              "10  ANDROID  ...  spotify:artist:1b8kpp4DUwt1hWaxTiWQhD\n",
              "11  ANDROID  ...  spotify:artist:1b8kpp4DUwt1hWaxTiWQhD\n",
              "12  ANDROID  ...   spotify:track:4cZGdje7UXxBsJViy2Cs8Z\n",
              "13  ANDROID  ...   spotify:track:4cZGdje7UXxBsJViy2Cs8Z\n",
              "14  ANDROID  ...   spotify:track:4cZGdje7UXxBsJViy2Cs8Z\n",
              "15  ANDROID  ...   spotify:track:4cZGdje7UXxBsJViy2Cs8Z\n",
              "16  ANDROID  ...   spotify:track:1yEjMahIbkCRvoh8szeJzm\n",
              "17  ANDROID  ...   spotify:track:1yEjMahIbkCRvoh8szeJzm\n",
              "18  ANDROID  ...   spotify:track:1yEjMahIbkCRvoh8szeJzm\n",
              "19  ANDROID  ...   spotify:track:1yEjMahIbkCRvoh8szeJzm\n",
              "\n",
              "[20 rows x 3 columns]"
            ]
          },
          "metadata": {
            "tags": []
          },
          "execution_count": 29
        }
      ]
    },
    {
      "cell_type": "code",
      "metadata": {
        "colab": {
          "base_uri": "https://localhost:8080/"
        },
        "id": "nx3J4xzFngCg",
        "outputId": "75093087-9c12-43ee-c358-4892d550761f"
      },
      "source": [
        "df['platform'].value_counts()"
      ],
      "execution_count": null,
      "outputs": [
        {
          "output_type": "execute_result",
          "data": {
            "text/plain": [
              "ANDROID    20\n",
              "Name: platform, dtype: int64"
            ]
          },
          "metadata": {
            "tags": []
          },
          "execution_count": 30
        }
      ]
    },
    {
      "cell_type": "code",
      "metadata": {
        "id": "LMl__HKwoAm9",
        "colab": {
          "base_uri": "https://localhost:8080/",
          "height": 171
        },
        "outputId": "6370cc93-e8fd-4130-b441-9c8809fe2de8"
      },
      "source": [
        "df.describe()"
      ],
      "execution_count": null,
      "outputs": [
        {
          "output_type": "execute_result",
          "data": {
            "text/html": [
              "<div>\n",
              "<style scoped>\n",
              "    .dataframe tbody tr th:only-of-type {\n",
              "        vertical-align: middle;\n",
              "    }\n",
              "\n",
              "    .dataframe tbody tr th {\n",
              "        vertical-align: top;\n",
              "    }\n",
              "\n",
              "    .dataframe thead th {\n",
              "        text-align: right;\n",
              "    }\n",
              "</style>\n",
              "<table border=\"1\" class=\"dataframe\">\n",
              "  <thead>\n",
              "    <tr style=\"text-align: right;\">\n",
              "      <th></th>\n",
              "      <th>platform</th>\n",
              "      <th>searchTime</th>\n",
              "      <th>searchInteractionURIs</th>\n",
              "    </tr>\n",
              "  </thead>\n",
              "  <tbody>\n",
              "    <tr>\n",
              "      <th>count</th>\n",
              "      <td>20</td>\n",
              "      <td>20</td>\n",
              "      <td>20</td>\n",
              "    </tr>\n",
              "    <tr>\n",
              "      <th>unique</th>\n",
              "      <td>1</td>\n",
              "      <td>5</td>\n",
              "      <td>5</td>\n",
              "    </tr>\n",
              "    <tr>\n",
              "      <th>top</th>\n",
              "      <td>ANDROID</td>\n",
              "      <td>2021-06-25T03:17:01.581Z[UTC]</td>\n",
              "      <td>[spotify:artist:1b8kpp4DUwt1hWaxTiWQhD]</td>\n",
              "    </tr>\n",
              "    <tr>\n",
              "      <th>freq</th>\n",
              "      <td>20</td>\n",
              "      <td>4</td>\n",
              "      <td>4</td>\n",
              "    </tr>\n",
              "  </tbody>\n",
              "</table>\n",
              "</div>"
            ],
            "text/plain": [
              "       platform  ...                    searchInteractionURIs\n",
              "count        20  ...                                       20\n",
              "unique        1  ...                                        5\n",
              "top     ANDROID  ...  [spotify:artist:1b8kpp4DUwt1hWaxTiWQhD]\n",
              "freq         20  ...                                        4\n",
              "\n",
              "[4 rows x 3 columns]"
            ]
          },
          "metadata": {
            "tags": []
          },
          "execution_count": 31
        }
      ]
    },
    {
      "cell_type": "code",
      "metadata": {
        "id": "LAvNvIQT2Q2m"
      },
      "source": [
        "df.to_csv('dispositivos.csv')\n"
      ],
      "execution_count": null,
      "outputs": []
    },
    {
      "cell_type": "markdown",
      "metadata": {
        "id": "4NkOZvHWvRN2"
      },
      "source": [
        "#### Passando as planilhas para csv"
      ]
    },
    {
      "cell_type": "code",
      "metadata": {
        "id": "NiHWMLL9vVzR"
      },
      "source": [
        "hist_final.to_csv('historicoFinal.csv')\n",
        "faixas.to_csv('faixas.csv')\n",
        "albuns.to_csv('albuns.csv')\n",
        "podcasts.to_csv('podcasts.csv')\n",
        "artistas.to_csv('artistas.csv')"
      ],
      "execution_count": null,
      "outputs": []
    },
    {
      "cell_type": "markdown",
      "metadata": {
        "id": "o3mVoDW8vufe"
      },
      "source": [
        "### Dados Ifood"
      ]
    },
    {
      "cell_type": "code",
      "metadata": {
        "id": "PTIFVofpvcQJ",
        "colab": {
          "base_uri": "https://localhost:8080/"
        },
        "outputId": "2b43205e-6a6f-440d-e4c6-7bb4febff200"
      },
      "source": [
        "pedidos=pd.read_csv('/content/drive/MyDrive/3_VAMO_AI/Dados_Natascha/Ifood_Descomprimido/pedidos..csv')\n",
        "pedidos.head()"
      ],
      "execution_count": null,
      "outputs": [
        {
          "output_type": "execute_result",
          "data": {
            "text/html": [
              "<div>\n",
              "<style scoped>\n",
              "    .dataframe tbody tr th:only-of-type {\n",
              "        vertical-align: middle;\n",
              "    }\n",
              "\n",
              "    .dataframe tbody tr th {\n",
              "        vertical-align: top;\n",
              "    }\n",
              "\n",
              "    .dataframe thead th {\n",
              "        text-align: right;\n",
              "    }\n",
              "</style>\n",
              "<table border=\"1\" class=\"dataframe\">\n",
              "  <thead>\n",
              "    <tr style=\"text-align: right;\">\n",
              "      <th></th>\n",
              "      <th>id_usuario</th>\n",
              "      <th>id_pedido</th>\n",
              "      <th>restaurante</th>\n",
              "      <th>valor</th>\n",
              "      <th>status</th>\n",
              "      <th>data_registro</th>\n",
              "      <th>data_pedido</th>\n",
              "    </tr>\n",
              "  </thead>\n",
              "  <tbody>\n",
              "    <tr>\n",
              "      <th>0</th>\n",
              "      <td>2a61cc67-e25a-4551-ab88-abd3afa409f8</td>\n",
              "      <td>659606489</td>\n",
              "      <td>Domino's Pizza - Vinhedo</td>\n",
              "      <td>72.50</td>\n",
              "      <td>CONCLUDED</td>\n",
              "      <td>2018-01-04</td>\n",
              "      <td>2019-05-27</td>\n",
              "    </tr>\n",
              "    <tr>\n",
              "      <th>1</th>\n",
              "      <td>2a61cc67-e25a-4551-ab88-abd3afa409f8</td>\n",
              "      <td>390388599</td>\n",
              "      <td>Dominos Pizza - Cambui</td>\n",
              "      <td>70.40</td>\n",
              "      <td>CONCLUDED</td>\n",
              "      <td>2018-01-04</td>\n",
              "      <td>2019-01-01</td>\n",
              "    </tr>\n",
              "    <tr>\n",
              "      <th>2</th>\n",
              "      <td>2a61cc67-e25a-4551-ab88-abd3afa409f8</td>\n",
              "      <td>725971067</td>\n",
              "      <td>Mineiro Delivery - Valinhos</td>\n",
              "      <td>69.98</td>\n",
              "      <td>CONCLUDED</td>\n",
              "      <td>2018-01-04</td>\n",
              "      <td>2019-06-23</td>\n",
              "    </tr>\n",
              "    <tr>\n",
              "      <th>3</th>\n",
              "      <td>2a61cc67-e25a-4551-ab88-abd3afa409f8</td>\n",
              "      <td>191171420</td>\n",
              "      <td>Oficina Dos Sabores</td>\n",
              "      <td>24.00</td>\n",
              "      <td>CONCLUDED</td>\n",
              "      <td>2018-01-04</td>\n",
              "      <td>2018-02-27</td>\n",
              "    </tr>\n",
              "    <tr>\n",
              "      <th>4</th>\n",
              "      <td>2a61cc67-e25a-4551-ab88-abd3afa409f8</td>\n",
              "      <td>166497544</td>\n",
              "      <td>Estacao Das Pizzas</td>\n",
              "      <td>27.99</td>\n",
              "      <td>CONCLUDED</td>\n",
              "      <td>2018-01-04</td>\n",
              "      <td>2018-01-11</td>\n",
              "    </tr>\n",
              "  </tbody>\n",
              "</table>\n",
              "</div>"
            ],
            "text/plain": [
              "                             id_usuario  id_pedido  ... data_registro  data_pedido\n",
              "0  2a61cc67-e25a-4551-ab88-abd3afa409f8  659606489  ...    2018-01-04   2019-05-27\n",
              "1  2a61cc67-e25a-4551-ab88-abd3afa409f8  390388599  ...    2018-01-04   2019-01-01\n",
              "2  2a61cc67-e25a-4551-ab88-abd3afa409f8  725971067  ...    2018-01-04   2019-06-23\n",
              "3  2a61cc67-e25a-4551-ab88-abd3afa409f8  191171420  ...    2018-01-04   2018-02-27\n",
              "4  2a61cc67-e25a-4551-ab88-abd3afa409f8  166497544  ...    2018-01-04   2018-01-11\n",
              "\n",
              "[5 rows x 7 columns]"
            ]
          },
          "metadata": {
            "tags": []
          },
          "execution_count": 34
        }
      ]
    },
    {
      "cell_type": "code",
      "metadata": {
        "id": "UbPXzXhKvtl9",
        "colab": {
          "base_uri": "https://localhost:8080/"
        },
        "outputId": "a7ca9575-1b0d-44c6-9af1-e0516051d271"
      },
      "source": [
        "pedidos.info()"
      ],
      "execution_count": null,
      "outputs": [
        {
          "output_type": "stream",
          "text": [
            "<class 'pandas.core.frame.DataFrame'>\n",
            "RangeIndex: 386 entries, 0 to 385\n",
            "Data columns (total 7 columns):\n",
            " #   Column         Non-Null Count  Dtype  \n",
            "---  ------         --------------  -----  \n",
            " 0   id_usuario     386 non-null    object \n",
            " 1   id_pedido      386 non-null    int64  \n",
            " 2   restaurante    386 non-null    object \n",
            " 3   valor          386 non-null    float64\n",
            " 4   status         386 non-null    object \n",
            " 5   data_registro  386 non-null    object \n",
            " 6   data_pedido    386 non-null    object \n",
            "dtypes: float64(1), int64(1), object(5)\n",
            "memory usage: 21.2+ KB\n"
          ],
          "name": "stdout"
        }
      ]
    },
    {
      "cell_type": "code",
      "metadata": {
        "id": "xLMGkLed23IK"
      },
      "source": [
        "pedidos['data_pedido']=pd.to_datetime(pedidos['data_pedido'])"
      ],
      "execution_count": null,
      "outputs": []
    },
    {
      "cell_type": "code",
      "metadata": {
        "id": "EQ3AqHWj3aqo",
        "colab": {
          "base_uri": "https://localhost:8080/"
        },
        "outputId": "f6b9c1ae-7b5c-417a-9cf0-2d907510b77c"
      },
      "source": [
        "pedidos['year']=pd.DatetimeIndex(pedidos['data_pedido']).year\n",
        "pedidos['month']=pd.DatetimeIndex(pedidos['data_pedido']).month\n",
        "pedidos['day']=pd.DatetimeIndex(pedidos['data_pedido']).day\n",
        "pedidos['day_name']=pedidos['data_pedido'].dt.day_name()\n",
        "\n",
        "pedidos.head()"
      ],
      "execution_count": null,
      "outputs": [
        {
          "output_type": "execute_result",
          "data": {
            "text/html": [
              "<div>\n",
              "<style scoped>\n",
              "    .dataframe tbody tr th:only-of-type {\n",
              "        vertical-align: middle;\n",
              "    }\n",
              "\n",
              "    .dataframe tbody tr th {\n",
              "        vertical-align: top;\n",
              "    }\n",
              "\n",
              "    .dataframe thead th {\n",
              "        text-align: right;\n",
              "    }\n",
              "</style>\n",
              "<table border=\"1\" class=\"dataframe\">\n",
              "  <thead>\n",
              "    <tr style=\"text-align: right;\">\n",
              "      <th></th>\n",
              "      <th>id_usuario</th>\n",
              "      <th>id_pedido</th>\n",
              "      <th>restaurante</th>\n",
              "      <th>valor</th>\n",
              "      <th>status</th>\n",
              "      <th>data_registro</th>\n",
              "      <th>data_pedido</th>\n",
              "      <th>year</th>\n",
              "      <th>month</th>\n",
              "      <th>day</th>\n",
              "      <th>day_name</th>\n",
              "    </tr>\n",
              "  </thead>\n",
              "  <tbody>\n",
              "    <tr>\n",
              "      <th>0</th>\n",
              "      <td>2a61cc67-e25a-4551-ab88-abd3afa409f8</td>\n",
              "      <td>659606489</td>\n",
              "      <td>Domino's Pizza - Vinhedo</td>\n",
              "      <td>72.50</td>\n",
              "      <td>CONCLUDED</td>\n",
              "      <td>2018-01-04</td>\n",
              "      <td>2019-05-27</td>\n",
              "      <td>2019</td>\n",
              "      <td>5</td>\n",
              "      <td>27</td>\n",
              "      <td>Monday</td>\n",
              "    </tr>\n",
              "    <tr>\n",
              "      <th>1</th>\n",
              "      <td>2a61cc67-e25a-4551-ab88-abd3afa409f8</td>\n",
              "      <td>390388599</td>\n",
              "      <td>Dominos Pizza - Cambui</td>\n",
              "      <td>70.40</td>\n",
              "      <td>CONCLUDED</td>\n",
              "      <td>2018-01-04</td>\n",
              "      <td>2019-01-01</td>\n",
              "      <td>2019</td>\n",
              "      <td>1</td>\n",
              "      <td>1</td>\n",
              "      <td>Tuesday</td>\n",
              "    </tr>\n",
              "    <tr>\n",
              "      <th>2</th>\n",
              "      <td>2a61cc67-e25a-4551-ab88-abd3afa409f8</td>\n",
              "      <td>725971067</td>\n",
              "      <td>Mineiro Delivery - Valinhos</td>\n",
              "      <td>69.98</td>\n",
              "      <td>CONCLUDED</td>\n",
              "      <td>2018-01-04</td>\n",
              "      <td>2019-06-23</td>\n",
              "      <td>2019</td>\n",
              "      <td>6</td>\n",
              "      <td>23</td>\n",
              "      <td>Sunday</td>\n",
              "    </tr>\n",
              "    <tr>\n",
              "      <th>3</th>\n",
              "      <td>2a61cc67-e25a-4551-ab88-abd3afa409f8</td>\n",
              "      <td>191171420</td>\n",
              "      <td>Oficina Dos Sabores</td>\n",
              "      <td>24.00</td>\n",
              "      <td>CONCLUDED</td>\n",
              "      <td>2018-01-04</td>\n",
              "      <td>2018-02-27</td>\n",
              "      <td>2018</td>\n",
              "      <td>2</td>\n",
              "      <td>27</td>\n",
              "      <td>Tuesday</td>\n",
              "    </tr>\n",
              "    <tr>\n",
              "      <th>4</th>\n",
              "      <td>2a61cc67-e25a-4551-ab88-abd3afa409f8</td>\n",
              "      <td>166497544</td>\n",
              "      <td>Estacao Das Pizzas</td>\n",
              "      <td>27.99</td>\n",
              "      <td>CONCLUDED</td>\n",
              "      <td>2018-01-04</td>\n",
              "      <td>2018-01-11</td>\n",
              "      <td>2018</td>\n",
              "      <td>1</td>\n",
              "      <td>11</td>\n",
              "      <td>Thursday</td>\n",
              "    </tr>\n",
              "  </tbody>\n",
              "</table>\n",
              "</div>"
            ],
            "text/plain": [
              "                             id_usuario  id_pedido  ... day  day_name\n",
              "0  2a61cc67-e25a-4551-ab88-abd3afa409f8  659606489  ...  27    Monday\n",
              "1  2a61cc67-e25a-4551-ab88-abd3afa409f8  390388599  ...   1   Tuesday\n",
              "2  2a61cc67-e25a-4551-ab88-abd3afa409f8  725971067  ...  23    Sunday\n",
              "3  2a61cc67-e25a-4551-ab88-abd3afa409f8  191171420  ...  27   Tuesday\n",
              "4  2a61cc67-e25a-4551-ab88-abd3afa409f8  166497544  ...  11  Thursday\n",
              "\n",
              "[5 rows x 11 columns]"
            ]
          },
          "metadata": {
            "tags": []
          },
          "execution_count": 37
        }
      ]
    },
    {
      "cell_type": "code",
      "metadata": {
        "colab": {
          "base_uri": "https://localhost:8080/"
        },
        "id": "mv_meeOsmb56",
        "outputId": "e198933e-c869-4f97-a4c4-718e6f465488"
      },
      "source": [
        "pedidos.describe()"
      ],
      "execution_count": null,
      "outputs": [
        {
          "output_type": "execute_result",
          "data": {
            "text/html": [
              "<div>\n",
              "<style scoped>\n",
              "    .dataframe tbody tr th:only-of-type {\n",
              "        vertical-align: middle;\n",
              "    }\n",
              "\n",
              "    .dataframe tbody tr th {\n",
              "        vertical-align: top;\n",
              "    }\n",
              "\n",
              "    .dataframe thead th {\n",
              "        text-align: right;\n",
              "    }\n",
              "</style>\n",
              "<table border=\"1\" class=\"dataframe\">\n",
              "  <thead>\n",
              "    <tr style=\"text-align: right;\">\n",
              "      <th></th>\n",
              "      <th>id_pedido</th>\n",
              "      <th>valor</th>\n",
              "      <th>year</th>\n",
              "      <th>month</th>\n",
              "      <th>day</th>\n",
              "    </tr>\n",
              "  </thead>\n",
              "  <tbody>\n",
              "    <tr>\n",
              "      <th>count</th>\n",
              "      <td>3.860000e+02</td>\n",
              "      <td>386.000000</td>\n",
              "      <td>386.000000</td>\n",
              "      <td>386.000000</td>\n",
              "      <td>386.000000</td>\n",
              "    </tr>\n",
              "    <tr>\n",
              "      <th>mean</th>\n",
              "      <td>1.842785e+09</td>\n",
              "      <td>47.347435</td>\n",
              "      <td>2019.712435</td>\n",
              "      <td>7.077720</td>\n",
              "      <td>15.544041</td>\n",
              "    </tr>\n",
              "    <tr>\n",
              "      <th>std</th>\n",
              "      <td>1.066859e+09</td>\n",
              "      <td>25.023436</td>\n",
              "      <td>0.910374</td>\n",
              "      <td>3.069612</td>\n",
              "      <td>8.844362</td>\n",
              "    </tr>\n",
              "    <tr>\n",
              "      <th>min</th>\n",
              "      <td>1.637035e+08</td>\n",
              "      <td>8.900000</td>\n",
              "      <td>2018.000000</td>\n",
              "      <td>1.000000</td>\n",
              "      <td>1.000000</td>\n",
              "    </tr>\n",
              "    <tr>\n",
              "      <th>25%</th>\n",
              "      <td>8.037475e+08</td>\n",
              "      <td>30.600000</td>\n",
              "      <td>2019.000000</td>\n",
              "      <td>5.000000</td>\n",
              "      <td>7.250000</td>\n",
              "    </tr>\n",
              "    <tr>\n",
              "      <th>50%</th>\n",
              "      <td>2.060331e+09</td>\n",
              "      <td>42.000000</td>\n",
              "      <td>2020.000000</td>\n",
              "      <td>7.000000</td>\n",
              "      <td>15.500000</td>\n",
              "    </tr>\n",
              "    <tr>\n",
              "      <th>75%</th>\n",
              "      <td>2.600246e+09</td>\n",
              "      <td>57.987500</td>\n",
              "      <td>2020.000000</td>\n",
              "      <td>10.000000</td>\n",
              "      <td>23.000000</td>\n",
              "    </tr>\n",
              "    <tr>\n",
              "      <th>max</th>\n",
              "      <td>4.115862e+09</td>\n",
              "      <td>287.100000</td>\n",
              "      <td>2021.000000</td>\n",
              "      <td>12.000000</td>\n",
              "      <td>31.000000</td>\n",
              "    </tr>\n",
              "  </tbody>\n",
              "</table>\n",
              "</div>"
            ],
            "text/plain": [
              "          id_pedido       valor         year       month         day\n",
              "count  3.860000e+02  386.000000   386.000000  386.000000  386.000000\n",
              "mean   1.842785e+09   47.347435  2019.712435    7.077720   15.544041\n",
              "std    1.066859e+09   25.023436     0.910374    3.069612    8.844362\n",
              "min    1.637035e+08    8.900000  2018.000000    1.000000    1.000000\n",
              "25%    8.037475e+08   30.600000  2019.000000    5.000000    7.250000\n",
              "50%    2.060331e+09   42.000000  2020.000000    7.000000   15.500000\n",
              "75%    2.600246e+09   57.987500  2020.000000   10.000000   23.000000\n",
              "max    4.115862e+09  287.100000  2021.000000   12.000000   31.000000"
            ]
          },
          "metadata": {
            "tags": []
          },
          "execution_count": 38
        }
      ]
    },
    {
      "cell_type": "code",
      "metadata": {
        "colab": {
          "base_uri": "https://localhost:8080/"
        },
        "id": "ol4J-hFvkFRP",
        "outputId": "e0d8d769-83c3-4523-bd6d-282821b76bb0"
      },
      "source": [
        "pedidos['day_name'].value_counts()"
      ],
      "execution_count": null,
      "outputs": [
        {
          "output_type": "execute_result",
          "data": {
            "text/plain": [
              "Sunday       68\n",
              "Thursday     64\n",
              "Saturday     58\n",
              "Friday       53\n",
              "Tuesday      51\n",
              "Wednesday    49\n",
              "Monday       43\n",
              "Name: day_name, dtype: int64"
            ]
          },
          "metadata": {
            "tags": []
          },
          "execution_count": 39
        }
      ]
    },
    {
      "cell_type": "code",
      "metadata": {
        "id": "jBi9ME_U34jY",
        "colab": {
          "base_uri": "https://localhost:8080/"
        },
        "outputId": "28de9b17-57bd-466d-95b7-c565e4439ece"
      },
      "source": [
        "pedidos['day_name'].value_counts().plot(kind='barh', figsize=(15,8))"
      ],
      "execution_count": null,
      "outputs": [
        {
          "output_type": "execute_result",
          "data": {
            "text/plain": [
              "<matplotlib.axes._subplots.AxesSubplot at 0x7f020722a990>"
            ]
          },
          "metadata": {
            "tags": []
          },
          "execution_count": 40
        },
        {
          "output_type": "display_data",
          "data": {
            "image/png": "[encoded data removed]",
            "text/plain": [
              "<Figure size 1080x576 with 1 Axes>"
            ]
          },
          "metadata": {
            "tags": [],
            "needs_background": "light"
          }
        }
      ]
    },
    {
      "cell_type": "code",
      "metadata": {
        "id": "-VdsvkS6FnMS",
        "colab": {
          "base_uri": "https://localhost:8080/"
        },
        "outputId": "2f4faa33-cce6-45da-aab7-5a6d68a7449c"
      },
      "source": [
        "month = {\t\n",
        "    1:'January',\n",
        "\t\t2:'February',\n",
        "\t\t3:'March',\n",
        "\t\t4:'April',\n",
        "\t\t5:'May',\n",
        "\t\t6:'June',\n",
        "\t\t7:'July',\n",
        "\t\t8:'August',\n",
        "\t\t9:'September',\n",
        "\t\t10:'October',\n",
        "\t\t11:'November',\n",
        "\t\t12:'December'\t\t\n",
        "}\n",
        "\n",
        "pedidos[\"month\"].replace(month, inplace=True)\n",
        "pedidos.head()"
      ],
      "execution_count": null,
      "outputs": [
        {
          "output_type": "execute_result",
          "data": {
            "text/html": [
              "<div>\n",
              "<style scoped>\n",
              "    .dataframe tbody tr th:only-of-type {\n",
              "        vertical-align: middle;\n",
              "    }\n",
              "\n",
              "    .dataframe tbody tr th {\n",
              "        vertical-align: top;\n",
              "    }\n",
              "\n",
              "    .dataframe thead th {\n",
              "        text-align: right;\n",
              "    }\n",
              "</style>\n",
              "<table border=\"1\" class=\"dataframe\">\n",
              "  <thead>\n",
              "    <tr style=\"text-align: right;\">\n",
              "      <th></th>\n",
              "      <th>id_usuario</th>\n",
              "      <th>id_pedido</th>\n",
              "      <th>restaurante</th>\n",
              "      <th>valor</th>\n",
              "      <th>status</th>\n",
              "      <th>data_registro</th>\n",
              "      <th>data_pedido</th>\n",
              "      <th>year</th>\n",
              "      <th>month</th>\n",
              "      <th>day</th>\n",
              "      <th>day_name</th>\n",
              "    </tr>\n",
              "  </thead>\n",
              "  <tbody>\n",
              "    <tr>\n",
              "      <th>0</th>\n",
              "      <td>2a61cc67-e25a-4551-ab88-abd3afa409f8</td>\n",
              "      <td>659606489</td>\n",
              "      <td>Domino's Pizza - Vinhedo</td>\n",
              "      <td>72.50</td>\n",
              "      <td>CONCLUDED</td>\n",
              "      <td>2018-01-04</td>\n",
              "      <td>2019-05-27</td>\n",
              "      <td>2019</td>\n",
              "      <td>May</td>\n",
              "      <td>27</td>\n",
              "      <td>Monday</td>\n",
              "    </tr>\n",
              "    <tr>\n",
              "      <th>1</th>\n",
              "      <td>2a61cc67-e25a-4551-ab88-abd3afa409f8</td>\n",
              "      <td>390388599</td>\n",
              "      <td>Dominos Pizza - Cambui</td>\n",
              "      <td>70.40</td>\n",
              "      <td>CONCLUDED</td>\n",
              "      <td>2018-01-04</td>\n",
              "      <td>2019-01-01</td>\n",
              "      <td>2019</td>\n",
              "      <td>January</td>\n",
              "      <td>1</td>\n",
              "      <td>Tuesday</td>\n",
              "    </tr>\n",
              "    <tr>\n",
              "      <th>2</th>\n",
              "      <td>2a61cc67-e25a-4551-ab88-abd3afa409f8</td>\n",
              "      <td>725971067</td>\n",
              "      <td>Mineiro Delivery - Valinhos</td>\n",
              "      <td>69.98</td>\n",
              "      <td>CONCLUDED</td>\n",
              "      <td>2018-01-04</td>\n",
              "      <td>2019-06-23</td>\n",
              "      <td>2019</td>\n",
              "      <td>June</td>\n",
              "      <td>23</td>\n",
              "      <td>Sunday</td>\n",
              "    </tr>\n",
              "    <tr>\n",
              "      <th>3</th>\n",
              "      <td>2a61cc67-e25a-4551-ab88-abd3afa409f8</td>\n",
              "      <td>191171420</td>\n",
              "      <td>Oficina Dos Sabores</td>\n",
              "      <td>24.00</td>\n",
              "      <td>CONCLUDED</td>\n",
              "      <td>2018-01-04</td>\n",
              "      <td>2018-02-27</td>\n",
              "      <td>2018</td>\n",
              "      <td>February</td>\n",
              "      <td>27</td>\n",
              "      <td>Tuesday</td>\n",
              "    </tr>\n",
              "    <tr>\n",
              "      <th>4</th>\n",
              "      <td>2a61cc67-e25a-4551-ab88-abd3afa409f8</td>\n",
              "      <td>166497544</td>\n",
              "      <td>Estacao Das Pizzas</td>\n",
              "      <td>27.99</td>\n",
              "      <td>CONCLUDED</td>\n",
              "      <td>2018-01-04</td>\n",
              "      <td>2018-01-11</td>\n",
              "      <td>2018</td>\n",
              "      <td>January</td>\n",
              "      <td>11</td>\n",
              "      <td>Thursday</td>\n",
              "    </tr>\n",
              "  </tbody>\n",
              "</table>\n",
              "</div>"
            ],
            "text/plain": [
              "                             id_usuario  id_pedido  ... day  day_name\n",
              "0  2a61cc67-e25a-4551-ab88-abd3afa409f8  659606489  ...  27    Monday\n",
              "1  2a61cc67-e25a-4551-ab88-abd3afa409f8  390388599  ...   1   Tuesday\n",
              "2  2a61cc67-e25a-4551-ab88-abd3afa409f8  725971067  ...  23    Sunday\n",
              "3  2a61cc67-e25a-4551-ab88-abd3afa409f8  191171420  ...  27   Tuesday\n",
              "4  2a61cc67-e25a-4551-ab88-abd3afa409f8  166497544  ...  11  Thursday\n",
              "\n",
              "[5 rows x 11 columns]"
            ]
          },
          "metadata": {
            "tags": []
          },
          "execution_count": 41
        }
      ]
    },
    {
      "cell_type": "code",
      "metadata": {
        "colab": {
          "base_uri": "https://localhost:8080/"
        },
        "id": "hBjrEeUlikvj",
        "outputId": "a26c2a3e-0e4b-42f5-a63a-bb8ba9f54e07"
      },
      "source": [
        "pedidos['month'].value_counts().sort_values().plot(kind='barh',figsize=(15,8))"
      ],
      "execution_count": null,
      "outputs": [
        {
          "output_type": "execute_result",
          "data": {
            "text/plain": [
              "<matplotlib.axes._subplots.AxesSubplot at 0x7f020725dc50>"
            ]
          },
          "metadata": {
            "tags": []
          },
          "execution_count": 42
        },
        {
          "output_type": "display_data",
          "data": {
            "image/png": "[encoded data removed]",
            "text/plain": [
              "<Figure size 1080x576 with 1 Axes>"
            ]
          },
          "metadata": {
            "tags": [],
            "needs_background": "light"
          }
        }
      ]
    },
    {
      "cell_type": "code",
      "metadata": {
        "id": "quBzkD57wESh",
        "colab": {
          "base_uri": "https://localhost:8080/"
        },
        "outputId": "3c280527-1152-4ec5-f274-a856a65ae157"
      },
      "source": [
        "pedidos['valor'].sum()"
      ],
      "execution_count": null,
      "outputs": [
        {
          "output_type": "execute_result",
          "data": {
            "text/plain": [
              "18276.11"
            ]
          },
          "metadata": {
            "tags": []
          },
          "execution_count": 43
        }
      ]
    },
    {
      "cell_type": "code",
      "metadata": {
        "id": "xpXzjO31wvXq",
        "colab": {
          "base_uri": "https://localhost:8080/"
        },
        "outputId": "bc7fdf85-59b8-489b-8327-b978fe334172"
      },
      "source": [
        "pedidos['restaurante'].value_counts().head()"
      ],
      "execution_count": null,
      "outputs": [
        {
          "output_type": "execute_result",
          "data": {
            "text/plain": [
              "Mcdonald's - Estrada Da Bioada    28\n",
              "Marmitaria Tempero Fino           18\n",
              "Habib's - Vinhedo                 17\n",
              "Domino's Pizza - Vinhedo          16\n",
              "Bodegon 2260                      13\n",
              "Name: restaurante, dtype: int64"
            ]
          },
          "metadata": {
            "tags": []
          },
          "execution_count": 44
        }
      ]
    },
    {
      "cell_type": "code",
      "metadata": {
        "colab": {
          "base_uri": "https://localhost:8080/"
        },
        "id": "vowbmhTSjn_0",
        "outputId": "59cfc27d-f54d-41a1-9be5-77b6a63dd742"
      },
      "source": [
        "pedidos['restaurante'].value_counts().head().plot(kind='bar',rot=0, figsize=(15,8))"
      ],
      "execution_count": null,
      "outputs": [
        {
          "output_type": "execute_result",
          "data": {
            "text/plain": [
              "<matplotlib.axes._subplots.AxesSubplot at 0x7f0206c30990>"
            ]
          },
          "metadata": {
            "tags": []
          },
          "execution_count": 45
        },
        {
          "output_type": "display_data",
          "data": {
            "image/png": "[encoded data removed]",
            "text/plain": [
              "<Figure size 1080x576 with 1 Axes>"
            ]
          },
          "metadata": {
            "tags": [],
            "needs_background": "light"
          }
        }
      ]
    },
    {
      "cell_type": "code",
      "metadata": {
        "id": "pY4pwXEwwe-N",
        "colab": {
          "base_uri": "https://localhost:8080/"
        },
        "outputId": "88694816-2f60-4c11-9961-71416b7f674e"
      },
      "source": [
        "enderecos=pd.read_csv('/content/drive/MyDrive/3_VAMO_AI/Dados_Natascha/Ifood_Descomprimido/enderecos..csv')\n",
        "enderecos.head()"
      ],
      "execution_count": null,
      "outputs": [
        {
          "output_type": "execute_result",
          "data": {
            "text/html": [
              "<div>\n",
              "<style scoped>\n",
              "    .dataframe tbody tr th:only-of-type {\n",
              "        vertical-align: middle;\n",
              "    }\n",
              "\n",
              "    .dataframe tbody tr th {\n",
              "        vertical-align: top;\n",
              "    }\n",
              "\n",
              "    .dataframe thead th {\n",
              "        text-align: right;\n",
              "    }\n",
              "</style>\n",
              "<table border=\"1\" class=\"dataframe\">\n",
              "  <thead>\n",
              "    <tr style=\"text-align: right;\">\n",
              "      <th></th>\n",
              "      <th>id_usuario</th>\n",
              "      <th>tipo</th>\n",
              "      <th>logradouro</th>\n",
              "      <th>numero</th>\n",
              "      <th>complemento</th>\n",
              "      <th>bairro</th>\n",
              "      <th>cidade</th>\n",
              "      <th>estado</th>\n",
              "      <th>pais</th>\n",
              "      <th>data_registro</th>\n",
              "    </tr>\n",
              "  </thead>\n",
              "  <tbody>\n",
              "    <tr>\n",
              "      <th>0</th>\n",
              "      <td>2a61cc67-e25a-4551-ab88-abd3afa409f8</td>\n",
              "      <td>NaN</td>\n",
              "      <td>AV AVENIDA JOSE ROCHA BOMFIM 214</td>\n",
              "      <td>214</td>\n",
              "      <td>SIDNEY NÚMERO 1116</td>\n",
              "      <td>LOTEAMENTO CENTER SANTA GENEBRA</td>\n",
              "      <td>CAMPINAS</td>\n",
              "      <td>SP</td>\n",
              "      <td>BR</td>\n",
              "      <td>2018-12-06</td>\n",
              "    </tr>\n",
              "    <tr>\n",
              "      <th>1</th>\n",
              "      <td>2a61cc67-e25a-4551-ab88-abd3afa409f8</td>\n",
              "      <td>NaN</td>\n",
              "      <td>AV FRANCISCO GLICERIO</td>\n",
              "      <td>2040</td>\n",
              "      <td>52</td>\n",
              "      <td>VILA ITAPURA</td>\n",
              "      <td>CAMPINAS</td>\n",
              "      <td>SP</td>\n",
              "      <td>BR</td>\n",
              "      <td>2018-03-11</td>\n",
              "    </tr>\n",
              "    <tr>\n",
              "      <th>2</th>\n",
              "      <td>2a61cc67-e25a-4551-ab88-abd3afa409f8</td>\n",
              "      <td>NaN</td>\n",
              "      <td>AV SANTA ISABEL</td>\n",
              "      <td>12</td>\n",
              "      <td>NaN</td>\n",
              "      <td>BARAO GERALDO</td>\n",
              "      <td>CAMPINAS</td>\n",
              "      <td>SP</td>\n",
              "      <td>BR</td>\n",
              "      <td>2018-03-18</td>\n",
              "    </tr>\n",
              "    <tr>\n",
              "      <th>3</th>\n",
              "      <td>2a61cc67-e25a-4551-ab88-abd3afa409f8</td>\n",
              "      <td>NaN</td>\n",
              "      <td>RUA DAS NACOES UNIDAS</td>\n",
              "      <td>600</td>\n",
              "      <td>303 BLOCO 61</td>\n",
              "      <td>OLARIA</td>\n",
              "      <td>SALTO</td>\n",
              "      <td>SP</td>\n",
              "      <td>BR</td>\n",
              "      <td>2019-01-31</td>\n",
              "    </tr>\n",
              "    <tr>\n",
              "      <th>4</th>\n",
              "      <td>2a61cc67-e25a-4551-ab88-abd3afa409f8</td>\n",
              "      <td>NaN</td>\n",
              "      <td>R. JAPÃO</td>\n",
              "      <td>600</td>\n",
              "      <td>BLOCO 61 AP 303</td>\n",
              "      <td>JARDIM PLANALTO</td>\n",
              "      <td>SALTO</td>\n",
              "      <td>SP</td>\n",
              "      <td>BR</td>\n",
              "      <td>2019-05-18</td>\n",
              "    </tr>\n",
              "  </tbody>\n",
              "</table>\n",
              "</div>"
            ],
            "text/plain": [
              "                             id_usuario tipo  ... pais data_registro\n",
              "0  2a61cc67-e25a-4551-ab88-abd3afa409f8  NaN  ...   BR    2018-12-06\n",
              "1  2a61cc67-e25a-4551-ab88-abd3afa409f8  NaN  ...   BR    2018-03-11\n",
              "2  2a61cc67-e25a-4551-ab88-abd3afa409f8  NaN  ...   BR    2018-03-18\n",
              "3  2a61cc67-e25a-4551-ab88-abd3afa409f8  NaN  ...   BR    2019-01-31\n",
              "4  2a61cc67-e25a-4551-ab88-abd3afa409f8  NaN  ...   BR    2019-05-18\n",
              "\n",
              "[5 rows x 10 columns]"
            ]
          },
          "metadata": {
            "tags": []
          },
          "execution_count": 46
        }
      ]
    },
    {
      "cell_type": "code",
      "metadata": {
        "id": "bH9Wzh7KwkRh",
        "colab": {
          "base_uri": "https://localhost:8080/"
        },
        "outputId": "9395a270-35f4-4d8e-f10a-99cbfbaa0a3d"
      },
      "source": [
        "enderecos.info()"
      ],
      "execution_count": null,
      "outputs": [
        {
          "output_type": "stream",
          "text": [
            "<class 'pandas.core.frame.DataFrame'>\n",
            "RangeIndex: 30 entries, 0 to 29\n",
            "Data columns (total 10 columns):\n",
            " #   Column         Non-Null Count  Dtype \n",
            "---  ------         --------------  ----- \n",
            " 0   id_usuario     30 non-null     object\n",
            " 1   tipo           3 non-null      object\n",
            " 2   logradouro     30 non-null     object\n",
            " 3   numero         30 non-null     object\n",
            " 4   complemento    17 non-null     object\n",
            " 5   bairro         30 non-null     object\n",
            " 6   cidade         30 non-null     object\n",
            " 7   estado         30 non-null     object\n",
            " 8   pais           30 non-null     object\n",
            " 9   data_registro  30 non-null     object\n",
            "dtypes: object(10)\n",
            "memory usage: 2.5+ KB\n"
          ],
          "name": "stdout"
        }
      ]
    },
    {
      "cell_type": "code",
      "metadata": {
        "id": "RKsjZAo7wpva",
        "colab": {
          "base_uri": "https://localhost:8080/"
        },
        "outputId": "161122cf-fc58-4670-f483-3edd70dd454e"
      },
      "source": [
        "enderecos['cidade'].replace(['SUMARE'], 'SUMARÉ', inplace=True)\n",
        "enderecos.loc[enderecos['cidade']=='SUMARÉ']"
      ],
      "execution_count": null,
      "outputs": [
        {
          "output_type": "execute_result",
          "data": {
            "text/html": [
              "<div>\n",
              "<style scoped>\n",
              "    .dataframe tbody tr th:only-of-type {\n",
              "        vertical-align: middle;\n",
              "    }\n",
              "\n",
              "    .dataframe tbody tr th {\n",
              "        vertical-align: top;\n",
              "    }\n",
              "\n",
              "    .dataframe thead th {\n",
              "        text-align: right;\n",
              "    }\n",
              "</style>\n",
              "<table border=\"1\" class=\"dataframe\">\n",
              "  <thead>\n",
              "    <tr style=\"text-align: right;\">\n",
              "      <th></th>\n",
              "      <th>id_usuario</th>\n",
              "      <th>tipo</th>\n",
              "      <th>logradouro</th>\n",
              "      <th>numero</th>\n",
              "      <th>complemento</th>\n",
              "      <th>bairro</th>\n",
              "      <th>cidade</th>\n",
              "      <th>estado</th>\n",
              "      <th>pais</th>\n",
              "      <th>data_registro</th>\n",
              "    </tr>\n",
              "  </thead>\n",
              "  <tbody>\n",
              "    <tr>\n",
              "      <th>13</th>\n",
              "      <td>2a61cc67-e25a-4551-ab88-abd3afa409f8</td>\n",
              "      <td>NaN</td>\n",
              "      <td>AV CABO PEDRO HOFFMAN</td>\n",
              "      <td>420</td>\n",
              "      <td>AP11 BLOCO 24</td>\n",
              "      <td>RESIDENCIAL REAL PARQUE SUMARE</td>\n",
              "      <td>SUMARÉ</td>\n",
              "      <td>SP</td>\n",
              "      <td>BR</td>\n",
              "      <td>2018-01-04</td>\n",
              "    </tr>\n",
              "    <tr>\n",
              "      <th>22</th>\n",
              "      <td>2a61cc67-e25a-4551-ab88-abd3afa409f8</td>\n",
              "      <td>NaN</td>\n",
              "      <td>AV. CABO PEDRO HOFFMAN</td>\n",
              "      <td>420</td>\n",
              "      <td>AP 11 BLOCO 24</td>\n",
              "      <td>RES. REAL PARK SUMARÉ</td>\n",
              "      <td>SUMARÉ</td>\n",
              "      <td>SP</td>\n",
              "      <td>BR</td>\n",
              "      <td>2020-03-08</td>\n",
              "    </tr>\n",
              "  </tbody>\n",
              "</table>\n",
              "</div>"
            ],
            "text/plain": [
              "                              id_usuario tipo  ... pais data_registro\n",
              "13  2a61cc67-e25a-4551-ab88-abd3afa409f8  NaN  ...   BR    2018-01-04\n",
              "22  2a61cc67-e25a-4551-ab88-abd3afa409f8  NaN  ...   BR    2020-03-08\n",
              "\n",
              "[2 rows x 10 columns]"
            ]
          },
          "metadata": {
            "tags": []
          },
          "execution_count": 48
        }
      ]
    },
    {
      "cell_type": "code",
      "metadata": {
        "id": "aGfyfzUKzCff"
      },
      "source": [
        "pedidos.to_csv('pedidos.csv')\n",
        "enderecos.to_csv('enderecos.csv')\n"
      ],
      "execution_count": null,
      "outputs": []
    },
    {
      "cell_type": "markdown",
      "metadata": {
        "id": "Zrt6f1A02pOB"
      },
      "source": [
        "### Dados Facebook"
      ]
    },
    {
      "cell_type": "code",
      "metadata": {
        "id": "yZSePX88w50F"
      },
      "source": [
        "grupos=pd.read_json('/content/drive/MyDrive/3_VAMO_AI/Dados_Natascha/facebook-nataschafweber/activity_messages/group_interactions.json',encoding='utf-8')"
      ],
      "execution_count": null,
      "outputs": []
    },
    {
      "cell_type": "code",
      "metadata": {
        "colab": {
          "base_uri": "https://localhost:8080/",
          "height": 78
        },
        "id": "Edce8xMt3EsU",
        "outputId": "ae601e04-5c4a-46ef-e8a8-46cf6412aadd"
      },
      "source": [
        "grupos.head()"
      ],
      "execution_count": null,
      "outputs": [
        {
          "output_type": "execute_result",
          "data": {
            "text/html": [
              "<div>\n",
              "<style scoped>\n",
              "    .dataframe tbody tr th:only-of-type {\n",
              "        vertical-align: middle;\n",
              "    }\n",
              "\n",
              "    .dataframe tbody tr th {\n",
              "        vertical-align: top;\n",
              "    }\n",
              "\n",
              "    .dataframe thead th {\n",
              "        text-align: right;\n",
              "    }\n",
              "</style>\n",
              "<table border=\"1\" class=\"dataframe\">\n",
              "  <thead>\n",
              "    <tr style=\"text-align: right;\">\n",
              "      <th></th>\n",
              "      <th>group_interactions_v2</th>\n",
              "    </tr>\n",
              "  </thead>\n",
              "  <tbody>\n",
              "    <tr>\n",
              "      <th>0</th>\n",
              "      <td>{'name': '', 'description': '', 'entries': [{'...</td>\n",
              "    </tr>\n",
              "  </tbody>\n",
              "</table>\n",
              "</div>"
            ],
            "text/plain": [
              "                               group_interactions_v2\n",
              "0  {'name': '', 'description': '', 'entries': [{'..."
            ]
          },
          "metadata": {
            "tags": []
          },
          "execution_count": 51
        }
      ]
    },
    {
      "cell_type": "code",
      "metadata": {
        "id": "90BFhU9d7j3y"
      },
      "source": [
        "entries=pd.json_normalize(grupos['group_interactions_v2'])['entries']\n"
      ],
      "execution_count": null,
      "outputs": []
    },
    {
      "cell_type": "code",
      "metadata": {
        "colab": {
          "base_uri": "https://localhost:8080/"
        },
        "id": "WD2kXP155vXk",
        "outputId": "830d7829-d615-4e39-904f-23dfe08a02aa"
      },
      "source": [
        "type(entries)\n",
        "\n"
      ],
      "execution_count": null,
      "outputs": [
        {
          "output_type": "execute_result",
          "data": {
            "text/plain": [
              "pandas.core.series.Series"
            ]
          },
          "metadata": {
            "tags": []
          },
          "execution_count": 53
        }
      ]
    },
    {
      "cell_type": "code",
      "metadata": {
        "id": "9RwYjDSS5w4C"
      },
      "source": [
        "entries=entries.to_dict()"
      ],
      "execution_count": null,
      "outputs": []
    },
    {
      "cell_type": "code",
      "metadata": {
        "colab": {
          "base_uri": "https://localhost:8080/"
        },
        "id": "EjfXtP60BwQj",
        "outputId": "69b84228-a696-4148-ca4e-01a681226ad3"
      },
      "source": [
        "entries.keys()"
      ],
      "execution_count": null,
      "outputs": [
        {
          "output_type": "execute_result",
          "data": {
            "text/plain": [
              "dict_keys([0])"
            ]
          },
          "metadata": {
            "tags": []
          },
          "execution_count": 55
        }
      ]
    },
    {
      "cell_type": "code",
      "metadata": {
        "colab": {
          "base_uri": "https://localhost:8080/",
          "height": 414
        },
        "id": "XtzkTdJ3DYJ2",
        "outputId": "c500af34-72fb-4c75-aed5-859899d753be"
      },
      "source": [
        "name= pd.json_normalize(entries[0])\n",
        "name"
      ],
      "execution_count": null,
      "outputs": [
        {
          "output_type": "execute_result",
          "data": {
            "text/html": [
              "<div>\n",
              "<style scoped>\n",
              "    .dataframe tbody tr th:only-of-type {\n",
              "        vertical-align: middle;\n",
              "    }\n",
              "\n",
              "    .dataframe tbody tr th {\n",
              "        vertical-align: top;\n",
              "    }\n",
              "\n",
              "    .dataframe thead th {\n",
              "        text-align: right;\n",
              "    }\n",
              "</style>\n",
              "<table border=\"1\" class=\"dataframe\">\n",
              "  <thead>\n",
              "    <tr style=\"text-align: right;\">\n",
              "      <th></th>\n",
              "      <th>data.name</th>\n",
              "      <th>data.value</th>\n",
              "      <th>data.uri</th>\n",
              "    </tr>\n",
              "  </thead>\n",
              "  <tbody>\n",
              "    <tr>\n",
              "      <th>0</th>\n",
              "      <td>Bloco das Recalcada</td>\n",
              "      <td>7.335 vezes</td>\n",
              "      <td>https://www.facebook.com/groups/400179916659076/</td>\n",
              "    </tr>\n",
              "    <tr>\n",
              "      <th>1</th>\n",
              "      <td>Unicamp</td>\n",
              "      <td>7.308 vezes</td>\n",
              "      <td>https://www.facebook.com/groups/GrupoUnicamp/</td>\n",
              "    </tr>\n",
              "    <tr>\n",
              "      <th>2</th>\n",
              "      <td>LDRV</td>\n",
              "      <td>4.861 vezes</td>\n",
              "      <td>https://www.facebook.com/groups/LDRV12/</td>\n",
              "    </tr>\n",
              "    <tr>\n",
              "      <th>3</th>\n",
              "      <td>CGK WE â¥ U</td>\n",
              "      <td>3.255 vezes</td>\n",
              "      <td>https://www.facebook.com/groups/406373942826519/</td>\n",
              "    </tr>\n",
              "    <tr>\n",
              "      <th>4</th>\n",
              "      <td>Site dos Menes - O Grupo</td>\n",
              "      <td>2.690 vezes</td>\n",
              "      <td>https://www.facebook.com/groups/sitedosmenes/</td>\n",
              "    </tr>\n",
              "    <tr>\n",
              "      <th>...</th>\n",
              "      <td>...</td>\n",
              "      <td>...</td>\n",
              "      <td>...</td>\n",
              "    </tr>\n",
              "    <tr>\n",
              "      <th>187</th>\n",
              "      <td>Alunos ADS IFSP Campinas</td>\n",
              "      <td>1 vez</td>\n",
              "      <td>https://www.facebook.com/groups/224797324384626/</td>\n",
              "    </tr>\n",
              "    <tr>\n",
              "      <th>188</th>\n",
              "      <td>Fenda Das Bonecas</td>\n",
              "      <td>1 vez</td>\n",
              "      <td>https://www.facebook.com/groups/bonecasrift/</td>\n",
              "    </tr>\n",
              "    <tr>\n",
              "      <th>189</th>\n",
              "      <td>GLBT| LGBT- Gay Irlanda|Ireland|Dublin</td>\n",
              "      <td>1 vez</td>\n",
              "      <td>https://www.facebook.com/groups/GLBT.Irlanda/</td>\n",
              "    </tr>\n",
              "    <tr>\n",
              "      <th>190</th>\n",
              "      <td>LGBT Brasil</td>\n",
              "      <td>1 vez</td>\n",
              "      <td>https://www.facebook.com/groups/lgbtbr/</td>\n",
              "    </tr>\n",
              "    <tr>\n",
              "      <th>191</th>\n",
              "      <td>Morar em Rep, TÃ´ Querendo</td>\n",
              "      <td>1 vez</td>\n",
              "      <td>https://www.facebook.com/groups/144892788962253/</td>\n",
              "    </tr>\n",
              "  </tbody>\n",
              "</table>\n",
              "<p>192 rows × 3 columns</p>\n",
              "</div>"
            ],
            "text/plain": [
              "                                  data.name  ...                                          data.uri\n",
              "0                       Bloco das Recalcada  ...  https://www.facebook.com/groups/400179916659076/\n",
              "1                                   Unicamp  ...     https://www.facebook.com/groups/GrupoUnicamp/\n",
              "2                                      LDRV  ...           https://www.facebook.com/groups/LDRV12/\n",
              "3                              CGK WE â¥ U  ...  https://www.facebook.com/groups/406373942826519/\n",
              "4                  Site dos Menes - O Grupo  ...     https://www.facebook.com/groups/sitedosmenes/\n",
              "..                                      ...  ...                                               ...\n",
              "187                Alunos ADS IFSP Campinas  ...  https://www.facebook.com/groups/224797324384626/\n",
              "188                       Fenda Das Bonecas  ...      https://www.facebook.com/groups/bonecasrift/\n",
              "189  GLBT| LGBT- Gay Irlanda|Ireland|Dublin  ...     https://www.facebook.com/groups/GLBT.Irlanda/\n",
              "190                             LGBT Brasil  ...           https://www.facebook.com/groups/lgbtbr/\n",
              "191              Morar em Rep, TÃ´ Querendo  ...  https://www.facebook.com/groups/144892788962253/\n",
              "\n",
              "[192 rows x 3 columns]"
            ]
          },
          "metadata": {
            "tags": []
          },
          "execution_count": 56
        }
      ]
    },
    {
      "cell_type": "code",
      "metadata": {
        "colab": {
          "base_uri": "https://localhost:8080/"
        },
        "id": "y2RszoHlDukC",
        "outputId": "8a83405d-291a-4f51-99d1-f36c10b76b93"
      },
      "source": [
        "type(name)"
      ],
      "execution_count": null,
      "outputs": [
        {
          "output_type": "execute_result",
          "data": {
            "text/plain": [
              "pandas.core.frame.DataFrame"
            ]
          },
          "metadata": {
            "tags": []
          },
          "execution_count": 57
        }
      ]
    },
    {
      "cell_type": "code",
      "metadata": {
        "colab": {
          "base_uri": "https://localhost:8080/",
          "height": 78
        },
        "id": "rJh2RvkyHn5B",
        "outputId": "4ab72643-9253-4698-8725-2fbf3fa39b40"
      },
      "source": [
        "pessoas=pd.read_json('/content/drive/MyDrive/3_VAMO_AI/Dados_Natascha/facebook-nataschafweber/activity_messages/people_and_friends.json')\n",
        "pessoas"
      ],
      "execution_count": null,
      "outputs": [
        {
          "output_type": "execute_result",
          "data": {
            "text/html": [
              "<div>\n",
              "<style scoped>\n",
              "    .dataframe tbody tr th:only-of-type {\n",
              "        vertical-align: middle;\n",
              "    }\n",
              "\n",
              "    .dataframe tbody tr th {\n",
              "        vertical-align: top;\n",
              "    }\n",
              "\n",
              "    .dataframe thead th {\n",
              "        text-align: right;\n",
              "    }\n",
              "</style>\n",
              "<table border=\"1\" class=\"dataframe\">\n",
              "  <thead>\n",
              "    <tr style=\"text-align: right;\">\n",
              "      <th></th>\n",
              "      <th>people_interactions_v2</th>\n",
              "    </tr>\n",
              "  </thead>\n",
              "  <tbody>\n",
              "    <tr>\n",
              "      <th>0</th>\n",
              "      <td>{'name': '', 'description': '', 'entries': [{'...</td>\n",
              "    </tr>\n",
              "  </tbody>\n",
              "</table>\n",
              "</div>"
            ],
            "text/plain": [
              "                              people_interactions_v2\n",
              "0  {'name': '', 'description': '', 'entries': [{'..."
            ]
          },
          "metadata": {
            "tags": []
          },
          "execution_count": 58
        }
      ]
    },
    {
      "cell_type": "code",
      "metadata": {
        "id": "r-t3g-nvIAiW"
      },
      "source": [
        "name= pd.json_normalize(pessoas['people_interactions_v2'])"
      ],
      "execution_count": null,
      "outputs": []
    },
    {
      "cell_type": "code",
      "metadata": {
        "colab": {
          "base_uri": "https://localhost:8080/"
        },
        "id": "pxPkt7QnIrQX",
        "outputId": "ec24728f-a52e-48c8-b9a2-3f6d57015885"
      },
      "source": [
        "type(name)"
      ],
      "execution_count": null,
      "outputs": [
        {
          "output_type": "execute_result",
          "data": {
            "text/plain": [
              "pandas.core.frame.DataFrame"
            ]
          },
          "metadata": {
            "tags": []
          },
          "execution_count": 60
        }
      ]
    },
    {
      "cell_type": "code",
      "metadata": {
        "id": "POoSlzoNJwMi"
      },
      "source": [
        "name=name.to_dict()"
      ],
      "execution_count": null,
      "outputs": []
    },
    {
      "cell_type": "code",
      "metadata": {
        "colab": {
          "base_uri": "https://localhost:8080/",
          "height": 414
        },
        "id": "5JolNzh3XIkG",
        "outputId": "6441d0b3-8995-4307-dd13-e35268fd2c3d"
      },
      "source": [
        "people= pd.json_normalize(name['entries'], record_path=[0])\n",
        "people"
      ],
      "execution_count": null,
      "outputs": [
        {
          "output_type": "execute_result",
          "data": {
            "text/html": [
              "<div>\n",
              "<style scoped>\n",
              "    .dataframe tbody tr th:only-of-type {\n",
              "        vertical-align: middle;\n",
              "    }\n",
              "\n",
              "    .dataframe tbody tr th {\n",
              "        vertical-align: top;\n",
              "    }\n",
              "\n",
              "    .dataframe thead th {\n",
              "        text-align: right;\n",
              "    }\n",
              "</style>\n",
              "<table border=\"1\" class=\"dataframe\">\n",
              "  <thead>\n",
              "    <tr style=\"text-align: right;\">\n",
              "      <th></th>\n",
              "      <th>timestamp</th>\n",
              "      <th>data.name</th>\n",
              "      <th>data.uri</th>\n",
              "    </tr>\n",
              "  </thead>\n",
              "  <tbody>\n",
              "    <tr>\n",
              "      <th>0</th>\n",
              "      <td>1626633107</td>\n",
              "      <td>Vanessa Clarindo</td>\n",
              "      <td>https://www.facebook.com/vanessa.clarindo</td>\n",
              "    </tr>\n",
              "    <tr>\n",
              "      <th>1</th>\n",
              "      <td>1626392208</td>\n",
              "      <td>Alesandra Fontanesi</td>\n",
              "      <td>https://www.facebook.com/alesandrafontanesi</td>\n",
              "    </tr>\n",
              "    <tr>\n",
              "      <th>2</th>\n",
              "      <td>1626372894</td>\n",
              "      <td>Gaby Vidal</td>\n",
              "      <td>https://www.facebook.com/gabrielly.vidal.313</td>\n",
              "    </tr>\n",
              "    <tr>\n",
              "      <th>3</th>\n",
              "      <td>1626189594</td>\n",
              "      <td>Ueliton Silva</td>\n",
              "      <td>https://www.facebook.com/profile.php?id=100039...</td>\n",
              "    </tr>\n",
              "    <tr>\n",
              "      <th>4</th>\n",
              "      <td>1626119151</td>\n",
              "      <td>Natascha Weber</td>\n",
              "      <td>https://www.facebook.com/natascha.fweber</td>\n",
              "    </tr>\n",
              "    <tr>\n",
              "      <th>...</th>\n",
              "      <td>...</td>\n",
              "      <td>...</td>\n",
              "      <td>...</td>\n",
              "    </tr>\n",
              "    <tr>\n",
              "      <th>1200</th>\n",
              "      <td>1499857026</td>\n",
              "      <td>Heitor Ferreira</td>\n",
              "      <td>https://www.facebook.com/heitor.ferreira.718</td>\n",
              "    </tr>\n",
              "    <tr>\n",
              "      <th>1201</th>\n",
              "      <td>1499855741</td>\n",
              "      <td>OtÃ¡vio BonfÃ¡</td>\n",
              "      <td>https://www.facebook.com/otavio.bonfa</td>\n",
              "    </tr>\n",
              "    <tr>\n",
              "      <th>1202</th>\n",
              "      <td>1499824268</td>\n",
              "      <td>Esdras Andrade Araujo</td>\n",
              "      <td>https://www.facebook.com/esdras.animais</td>\n",
              "    </tr>\n",
              "    <tr>\n",
              "      <th>1203</th>\n",
              "      <td>1499782022</td>\n",
              "      <td>Anonymous User</td>\n",
              "      <td>https://www.facebook.com/profile.php?id=130963...</td>\n",
              "    </tr>\n",
              "    <tr>\n",
              "      <th>1204</th>\n",
              "      <td>1499169664</td>\n",
              "      <td>Fernanda Fnv</td>\n",
              "      <td>https://www.facebook.com/fernanda.nemenz</td>\n",
              "    </tr>\n",
              "  </tbody>\n",
              "</table>\n",
              "<p>1205 rows × 3 columns</p>\n",
              "</div>"
            ],
            "text/plain": [
              "       timestamp  ...                                           data.uri\n",
              "0     1626633107  ...          https://www.facebook.com/vanessa.clarindo\n",
              "1     1626392208  ...        https://www.facebook.com/alesandrafontanesi\n",
              "2     1626372894  ...       https://www.facebook.com/gabrielly.vidal.313\n",
              "3     1626189594  ...  https://www.facebook.com/profile.php?id=100039...\n",
              "4     1626119151  ...           https://www.facebook.com/natascha.fweber\n",
              "...          ...  ...                                                ...\n",
              "1200  1499857026  ...       https://www.facebook.com/heitor.ferreira.718\n",
              "1201  1499855741  ...              https://www.facebook.com/otavio.bonfa\n",
              "1202  1499824268  ...            https://www.facebook.com/esdras.animais\n",
              "1203  1499782022  ...  https://www.facebook.com/profile.php?id=130963...\n",
              "1204  1499169664  ...           https://www.facebook.com/fernanda.nemenz\n",
              "\n",
              "[1205 rows x 3 columns]"
            ]
          },
          "metadata": {
            "tags": []
          },
          "execution_count": 62
        }
      ]
    },
    {
      "cell_type": "code",
      "metadata": {
        "colab": {
          "base_uri": "https://localhost:8080/",
          "height": 414
        },
        "id": "bn4Qy5btXPWT",
        "outputId": "2280840c-55dd-44c5-948e-cef0f976383a"
      },
      "source": [
        "reacoes = pd.read_json('/content/drive/MyDrive/3_VAMO_AI/Dados_Natascha/facebook-nataschafweber/comments_and_reactions/posts_and_comments.json')\n",
        "reacoes"
      ],
      "execution_count": null,
      "outputs": [
        {
          "output_type": "execute_result",
          "data": {
            "text/html": [
              "<div>\n",
              "<style scoped>\n",
              "    .dataframe tbody tr th:only-of-type {\n",
              "        vertical-align: middle;\n",
              "    }\n",
              "\n",
              "    .dataframe tbody tr th {\n",
              "        vertical-align: top;\n",
              "    }\n",
              "\n",
              "    .dataframe thead th {\n",
              "        text-align: right;\n",
              "    }\n",
              "</style>\n",
              "<table border=\"1\" class=\"dataframe\">\n",
              "  <thead>\n",
              "    <tr style=\"text-align: right;\">\n",
              "      <th></th>\n",
              "      <th>reactions_v2</th>\n",
              "    </tr>\n",
              "  </thead>\n",
              "  <tbody>\n",
              "    <tr>\n",
              "      <th>0</th>\n",
              "      <td>{'timestamp': 1297135801, 'data': [{'reaction'...</td>\n",
              "    </tr>\n",
              "    <tr>\n",
              "      <th>1</th>\n",
              "      <td>{'timestamp': 1297114840, 'data': [{'reaction'...</td>\n",
              "    </tr>\n",
              "    <tr>\n",
              "      <th>2</th>\n",
              "      <td>{'timestamp': 1297113867, 'data': [{'reaction'...</td>\n",
              "    </tr>\n",
              "    <tr>\n",
              "      <th>3</th>\n",
              "      <td>{'timestamp': 1297109655, 'data': [{'reaction'...</td>\n",
              "    </tr>\n",
              "    <tr>\n",
              "      <th>4</th>\n",
              "      <td>{'timestamp': 1297106780, 'data': [{'reaction'...</td>\n",
              "    </tr>\n",
              "    <tr>\n",
              "      <th>...</th>\n",
              "      <td>...</td>\n",
              "    </tr>\n",
              "    <tr>\n",
              "      <th>156410</th>\n",
              "      <td>{'timestamp': 1626593701, 'data': [{'reaction'...</td>\n",
              "    </tr>\n",
              "    <tr>\n",
              "      <th>156411</th>\n",
              "      <td>{'timestamp': 1626593309, 'data': [{'reaction'...</td>\n",
              "    </tr>\n",
              "    <tr>\n",
              "      <th>156412</th>\n",
              "      <td>{'timestamp': 1626592813, 'data': [{'reaction'...</td>\n",
              "    </tr>\n",
              "    <tr>\n",
              "      <th>156413</th>\n",
              "      <td>{'timestamp': 1626592717, 'data': [{'reaction'...</td>\n",
              "    </tr>\n",
              "    <tr>\n",
              "      <th>156414</th>\n",
              "      <td>{'timestamp': 1626585175, 'data': [{'reaction'...</td>\n",
              "    </tr>\n",
              "  </tbody>\n",
              "</table>\n",
              "<p>156415 rows × 1 columns</p>\n",
              "</div>"
            ],
            "text/plain": [
              "                                             reactions_v2\n",
              "0       {'timestamp': 1297135801, 'data': [{'reaction'...\n",
              "1       {'timestamp': 1297114840, 'data': [{'reaction'...\n",
              "2       {'timestamp': 1297113867, 'data': [{'reaction'...\n",
              "3       {'timestamp': 1297109655, 'data': [{'reaction'...\n",
              "4       {'timestamp': 1297106780, 'data': [{'reaction'...\n",
              "...                                                   ...\n",
              "156410  {'timestamp': 1626593701, 'data': [{'reaction'...\n",
              "156411  {'timestamp': 1626593309, 'data': [{'reaction'...\n",
              "156412  {'timestamp': 1626592813, 'data': [{'reaction'...\n",
              "156413  {'timestamp': 1626592717, 'data': [{'reaction'...\n",
              "156414  {'timestamp': 1626585175, 'data': [{'reaction'...\n",
              "\n",
              "[156415 rows x 1 columns]"
            ]
          },
          "metadata": {
            "tags": []
          },
          "execution_count": 63
        }
      ]
    },
    {
      "cell_type": "code",
      "metadata": {
        "id": "VIlHiEoyX2YP"
      },
      "source": [
        "reacoes2=pd.json_normalize(reacoes['reactions_v2'], max_level=2)"
      ],
      "execution_count": null,
      "outputs": []
    },
    {
      "cell_type": "code",
      "metadata": {
        "colab": {
          "base_uri": "https://localhost:8080/",
          "height": 414
        },
        "id": "Pebnegv2XwTI",
        "outputId": "72d26660-cbd9-4ead-caeb-d255ccf72a71"
      },
      "source": [
        "\n",
        "reacoes2.explode('data')"
      ],
      "execution_count": null,
      "outputs": [
        {
          "output_type": "execute_result",
          "data": {
            "text/html": [
              "<div>\n",
              "<style scoped>\n",
              "    .dataframe tbody tr th:only-of-type {\n",
              "        vertical-align: middle;\n",
              "    }\n",
              "\n",
              "    .dataframe tbody tr th {\n",
              "        vertical-align: top;\n",
              "    }\n",
              "\n",
              "    .dataframe thead th {\n",
              "        text-align: right;\n",
              "    }\n",
              "</style>\n",
              "<table border=\"1\" class=\"dataframe\">\n",
              "  <thead>\n",
              "    <tr style=\"text-align: right;\">\n",
              "      <th></th>\n",
              "      <th>timestamp</th>\n",
              "      <th>data</th>\n",
              "      <th>title</th>\n",
              "      <th>attachments</th>\n",
              "    </tr>\n",
              "  </thead>\n",
              "  <tbody>\n",
              "    <tr>\n",
              "      <th>0</th>\n",
              "      <td>1297135801</td>\n",
              "      <td>{'reaction': {'reaction': 'LIKE', 'actor': 'Na...</td>\n",
              "      <td>Natascha Weber curtiu uma publicaÃ§Ã£o de Leti...</td>\n",
              "      <td>NaN</td>\n",
              "    </tr>\n",
              "    <tr>\n",
              "      <th>1</th>\n",
              "      <td>1297114840</td>\n",
              "      <td>{'reaction': {'reaction': 'LIKE', 'actor': 'Na...</td>\n",
              "      <td>Natascha Weber curtiu o comentÃ¡rio de Leandro...</td>\n",
              "      <td>NaN</td>\n",
              "    </tr>\n",
              "    <tr>\n",
              "      <th>2</th>\n",
              "      <td>1297113867</td>\n",
              "      <td>{'reaction': {'reaction': 'LIKE', 'actor': 'Na...</td>\n",
              "      <td>Natascha Weber curtiu uma publicaÃ§Ã£o de Caio...</td>\n",
              "      <td>NaN</td>\n",
              "    </tr>\n",
              "    <tr>\n",
              "      <th>3</th>\n",
              "      <td>1297109655</td>\n",
              "      <td>{'reaction': {'reaction': 'LIKE', 'actor': 'Na...</td>\n",
              "      <td>Natascha Weber curtiu o link de Thiago Alves.</td>\n",
              "      <td>NaN</td>\n",
              "    </tr>\n",
              "    <tr>\n",
              "      <th>4</th>\n",
              "      <td>1297106780</td>\n",
              "      <td>{'reaction': {'reaction': 'LIKE', 'actor': 'Na...</td>\n",
              "      <td>Natascha Weber curtiu uma publicaÃ§Ã£o de Caio...</td>\n",
              "      <td>NaN</td>\n",
              "    </tr>\n",
              "    <tr>\n",
              "      <th>...</th>\n",
              "      <td>...</td>\n",
              "      <td>...</td>\n",
              "      <td>...</td>\n",
              "      <td>...</td>\n",
              "    </tr>\n",
              "    <tr>\n",
              "      <th>156410</th>\n",
              "      <td>1626593701</td>\n",
              "      <td>{'reaction': {'reaction': 'LIKE', 'actor': 'Na...</td>\n",
              "      <td>Natascha Weber curtiu a foto de Suzana Ginez.</td>\n",
              "      <td>NaN</td>\n",
              "    </tr>\n",
              "    <tr>\n",
              "      <th>156411</th>\n",
              "      <td>1626593309</td>\n",
              "      <td>{'reaction': {'reaction': 'LIKE', 'actor': 'Na...</td>\n",
              "      <td>Natascha Weber curtiu uma publicaÃ§Ã£o de Math...</td>\n",
              "      <td>NaN</td>\n",
              "    </tr>\n",
              "    <tr>\n",
              "      <th>156412</th>\n",
              "      <td>1626592813</td>\n",
              "      <td>{'reaction': {'reaction': 'HAHA', 'actor': 'Na...</td>\n",
              "      <td>Natascha Weber reagiu a uma publicaÃ§Ã£o.</td>\n",
              "      <td>NaN</td>\n",
              "    </tr>\n",
              "    <tr>\n",
              "      <th>156413</th>\n",
              "      <td>1626592717</td>\n",
              "      <td>{'reaction': {'reaction': 'HAHA', 'actor': 'Na...</td>\n",
              "      <td>Natascha Weber reagiu a uma publicaÃ§Ã£o.</td>\n",
              "      <td>NaN</td>\n",
              "    </tr>\n",
              "    <tr>\n",
              "      <th>156414</th>\n",
              "      <td>1626585175</td>\n",
              "      <td>{'reaction': {'reaction': 'HAHA', 'actor': 'Na...</td>\n",
              "      <td>Natascha Weber reagiu a uma publicaÃ§Ã£o.</td>\n",
              "      <td>NaN</td>\n",
              "    </tr>\n",
              "  </tbody>\n",
              "</table>\n",
              "<p>156415 rows × 4 columns</p>\n",
              "</div>"
            ],
            "text/plain": [
              "         timestamp  ... attachments\n",
              "0       1297135801  ...         NaN\n",
              "1       1297114840  ...         NaN\n",
              "2       1297113867  ...         NaN\n",
              "3       1297109655  ...         NaN\n",
              "4       1297106780  ...         NaN\n",
              "...            ...  ...         ...\n",
              "156410  1626593701  ...         NaN\n",
              "156411  1626593309  ...         NaN\n",
              "156412  1626592813  ...         NaN\n",
              "156413  1626592717  ...         NaN\n",
              "156414  1626585175  ...         NaN\n",
              "\n",
              "[156415 rows x 4 columns]"
            ]
          },
          "metadata": {
            "tags": []
          },
          "execution_count": 65
        }
      ]
    },
    {
      "cell_type": "code",
      "metadata": {
        "id": "AOAM0CRCYox8"
      },
      "source": [
        "reacoes_lista=[]\n",
        "for i in reacoes2['data']:\n",
        "  reacoes_lista.append(i[0]['reaction']['reaction'])"
      ],
      "execution_count": null,
      "outputs": []
    },
    {
      "cell_type": "code",
      "metadata": {
        "id": "EkdFhhe_-4JB"
      },
      "source": [
        "lista = pd.Series(reacoes_lista)"
      ],
      "execution_count": null,
      "outputs": []
    },
    {
      "cell_type": "code",
      "metadata": {
        "id": "kGmge3zV_ewX"
      },
      "source": [
        "reacoes2['reacoes']=lista"
      ],
      "execution_count": null,
      "outputs": []
    },
    {
      "cell_type": "code",
      "metadata": {
        "colab": {
          "base_uri": "https://localhost:8080/",
          "height": 202
        },
        "id": "cVPHeiqU_1pB",
        "outputId": "aea5f674-ed01-485a-b560-893f291f213d"
      },
      "source": [
        "reacoes2.head()"
      ],
      "execution_count": null,
      "outputs": [
        {
          "output_type": "execute_result",
          "data": {
            "text/html": [
              "<div>\n",
              "<style scoped>\n",
              "    .dataframe tbody tr th:only-of-type {\n",
              "        vertical-align: middle;\n",
              "    }\n",
              "\n",
              "    .dataframe tbody tr th {\n",
              "        vertical-align: top;\n",
              "    }\n",
              "\n",
              "    .dataframe thead th {\n",
              "        text-align: right;\n",
              "    }\n",
              "</style>\n",
              "<table border=\"1\" class=\"dataframe\">\n",
              "  <thead>\n",
              "    <tr style=\"text-align: right;\">\n",
              "      <th></th>\n",
              "      <th>timestamp</th>\n",
              "      <th>data</th>\n",
              "      <th>title</th>\n",
              "      <th>attachments</th>\n",
              "      <th>reacoes</th>\n",
              "    </tr>\n",
              "  </thead>\n",
              "  <tbody>\n",
              "    <tr>\n",
              "      <th>0</th>\n",
              "      <td>1297135801</td>\n",
              "      <td>[{'reaction': {'reaction': 'LIKE', 'actor': 'N...</td>\n",
              "      <td>Natascha Weber curtiu uma publicaÃ§Ã£o de Leti...</td>\n",
              "      <td>NaN</td>\n",
              "      <td>LIKE</td>\n",
              "    </tr>\n",
              "    <tr>\n",
              "      <th>1</th>\n",
              "      <td>1297114840</td>\n",
              "      <td>[{'reaction': {'reaction': 'LIKE', 'actor': 'N...</td>\n",
              "      <td>Natascha Weber curtiu o comentÃ¡rio de Leandro...</td>\n",
              "      <td>NaN</td>\n",
              "      <td>LIKE</td>\n",
              "    </tr>\n",
              "    <tr>\n",
              "      <th>2</th>\n",
              "      <td>1297113867</td>\n",
              "      <td>[{'reaction': {'reaction': 'LIKE', 'actor': 'N...</td>\n",
              "      <td>Natascha Weber curtiu uma publicaÃ§Ã£o de Caio...</td>\n",
              "      <td>NaN</td>\n",
              "      <td>LIKE</td>\n",
              "    </tr>\n",
              "    <tr>\n",
              "      <th>3</th>\n",
              "      <td>1297109655</td>\n",
              "      <td>[{'reaction': {'reaction': 'LIKE', 'actor': 'N...</td>\n",
              "      <td>Natascha Weber curtiu o link de Thiago Alves.</td>\n",
              "      <td>NaN</td>\n",
              "      <td>LIKE</td>\n",
              "    </tr>\n",
              "    <tr>\n",
              "      <th>4</th>\n",
              "      <td>1297106780</td>\n",
              "      <td>[{'reaction': {'reaction': 'LIKE', 'actor': 'N...</td>\n",
              "      <td>Natascha Weber curtiu uma publicaÃ§Ã£o de Caio...</td>\n",
              "      <td>NaN</td>\n",
              "      <td>LIKE</td>\n",
              "    </tr>\n",
              "  </tbody>\n",
              "</table>\n",
              "</div>"
            ],
            "text/plain": [
              "    timestamp  ... reacoes\n",
              "0  1297135801  ...    LIKE\n",
              "1  1297114840  ...    LIKE\n",
              "2  1297113867  ...    LIKE\n",
              "3  1297109655  ...    LIKE\n",
              "4  1297106780  ...    LIKE\n",
              "\n",
              "[5 rows x 5 columns]"
            ]
          },
          "metadata": {
            "tags": []
          },
          "execution_count": 69
        }
      ]
    },
    {
      "cell_type": "code",
      "metadata": {
        "colab": {
          "base_uri": "https://localhost:8080/"
        },
        "id": "U0Xf_0z_AI7J",
        "outputId": "1d96c8f0-07b0-459c-f544-e10be1113d57"
      },
      "source": [
        "reacoes2['reacoes'].value_counts()"
      ],
      "execution_count": null,
      "outputs": [
        {
          "output_type": "execute_result",
          "data": {
            "text/plain": [
              "LIKE       126973\n",
              "HAHA        16772\n",
              "LOVE         9976\n",
              "SORRY        1129\n",
              "WOW           838\n",
              "ANGER         666\n",
              "DOROTHY        38\n",
              "TOTO           23\n",
              "Name: reacoes, dtype: int64"
            ]
          },
          "metadata": {
            "tags": []
          },
          "execution_count": 70
        }
      ]
    },
    {
      "cell_type": "code",
      "metadata": {
        "colab": {
          "base_uri": "https://localhost:8080/",
          "height": 322
        },
        "id": "xVXnKlxVApA5",
        "outputId": "29916c09-e3d9-460c-d57a-03eaa1d9ece9"
      },
      "source": [
        "reacoes2['reacoes'].value_counts().plot(kind='bar')"
      ],
      "execution_count": null,
      "outputs": [
        {
          "output_type": "execute_result",
          "data": {
            "text/plain": [
              "<matplotlib.axes._subplots.AxesSubplot at 0x7f01f7cc0210>"
            ]
          },
          "metadata": {
            "tags": []
          },
          "execution_count": 71
        },
        {
          "output_type": "display_data",
          "data": {
            "image/png": "[encoded data removed]",
            "text/plain": [
              "<Figure size 432x288 with 1 Axes>"
            ]
          },
          "metadata": {
            "tags": [],
            "needs_background": "light"
          }
        }
      ]
    },
    {
      "cell_type": "code",
      "metadata": {
        "colab": {
          "base_uri": "https://localhost:8080/",
          "height": 294
        },
        "id": "KysFC-S8A_dp",
        "outputId": "6eb8c6c0-c5e0-4dfb-bc08-91bcdebff1ef"
      },
      "source": [
        "reacoes_facebook = reacoes2['reacoes'].value_counts()\n",
        "reacoes_facebook = reacoes_facebook .to_frame()\n",
        "reacoes_facebook = reacoes_facebook .rename(columns={\"reacoes\": \"numero_reacoes\"})\n",
        "reacoes_facebook"
      ],
      "execution_count": null,
      "outputs": [
        {
          "output_type": "execute_result",
          "data": {
            "text/html": [
              "<div>\n",
              "<style scoped>\n",
              "    .dataframe tbody tr th:only-of-type {\n",
              "        vertical-align: middle;\n",
              "    }\n",
              "\n",
              "    .dataframe tbody tr th {\n",
              "        vertical-align: top;\n",
              "    }\n",
              "\n",
              "    .dataframe thead th {\n",
              "        text-align: right;\n",
              "    }\n",
              "</style>\n",
              "<table border=\"1\" class=\"dataframe\">\n",
              "  <thead>\n",
              "    <tr style=\"text-align: right;\">\n",
              "      <th></th>\n",
              "      <th>numero_reacoes</th>\n",
              "    </tr>\n",
              "  </thead>\n",
              "  <tbody>\n",
              "    <tr>\n",
              "      <th>LIKE</th>\n",
              "      <td>126973</td>\n",
              "    </tr>\n",
              "    <tr>\n",
              "      <th>HAHA</th>\n",
              "      <td>16772</td>\n",
              "    </tr>\n",
              "    <tr>\n",
              "      <th>LOVE</th>\n",
              "      <td>9976</td>\n",
              "    </tr>\n",
              "    <tr>\n",
              "      <th>SORRY</th>\n",
              "      <td>1129</td>\n",
              "    </tr>\n",
              "    <tr>\n",
              "      <th>WOW</th>\n",
              "      <td>838</td>\n",
              "    </tr>\n",
              "    <tr>\n",
              "      <th>ANGER</th>\n",
              "      <td>666</td>\n",
              "    </tr>\n",
              "    <tr>\n",
              "      <th>DOROTHY</th>\n",
              "      <td>38</td>\n",
              "    </tr>\n",
              "    <tr>\n",
              "      <th>TOTO</th>\n",
              "      <td>23</td>\n",
              "    </tr>\n",
              "  </tbody>\n",
              "</table>\n",
              "</div>"
            ],
            "text/plain": [
              "         numero_reacoes\n",
              "LIKE             126973\n",
              "HAHA              16772\n",
              "LOVE               9976\n",
              "SORRY              1129\n",
              "WOW                 838\n",
              "ANGER               666\n",
              "DOROTHY              38\n",
              "TOTO                 23"
            ]
          },
          "metadata": {
            "tags": []
          },
          "execution_count": 72
        }
      ]
    },
    {
      "cell_type": "code",
      "metadata": {
        "colab": {
          "base_uri": "https://localhost:8080/",
          "height": 626
        },
        "id": "ouXQwBHNBEc6",
        "outputId": "68ff6b64-a04e-4350-d68c-b41788932409"
      },
      "source": [
        "sns.set()\n",
        "plt.figure(figsize=(15, 10))\n",
        "\n",
        "plt.title('Reações')\n",
        "reacoes_facebook[\"numero_reacoes\"].plot.bar()\n",
        "\n",
        "for index, data in enumerate(reacoes_facebook[\"numero_reacoes\"]):\n",
        "    plt.text(x=index , y=data+1, s=f\"{data}\", fontdict=dict(fontsize=10), ha='center')\n",
        "\n",
        "plt.xlabel('Reações')\n",
        "plt.ylabel('Numero Reações')\n",
        "plt.xticks(rotation=0)\n",
        "plt.show()"
      ],
      "execution_count": null,
      "outputs": [
        {
          "output_type": "display_data",
          "data": {
            "image/png": "[encoded data removed]",
            "text/plain": [
              "<Figure size 1080x720 with 1 Axes>"
            ]
          },
          "metadata": {
            "tags": []
          }
        }
      ]
    },
    {
      "cell_type": "code",
      "metadata": {
        "id": "__JmyRUEZHMD",
        "colab": {
          "base_uri": "https://localhost:8080/",
          "height": 132
        },
        "outputId": "a453ea07-d79b-4177-ca5f-da2876937fc3"
      },
      "source": [
        "people.to_csv('pessoas.csv')"
      ],
      "execution_count": null,
      "outputs": [
        {
          "output_type": "error",
          "ename": "SyntaxError",
          "evalue": "ignored",
          "traceback": [
            "\u001b[0;36m  File \u001b[0;32m\"<ipython-input-74-b7ab777bee3b>\"\u001b[0;36m, line \u001b[0;32m1\u001b[0m\n\u001b[0;31m    people.to_csv(pessoas.csv')\u001b[0m\n\u001b[0m                               ^\u001b[0m\n\u001b[0;31mSyntaxError\u001b[0m\u001b[0;31m:\u001b[0m EOL while scanning string literal\n"
          ]
        }
      ]
    },
    {
      "cell_type": "code",
      "metadata": {
        "colab": {
          "base_uri": "https://localhost:8080/",
          "height": 445
        },
        "id": "UE2eZ3GOZTvd",
        "outputId": "93719b01-ad81-4b96-b5fc-1d2baf2e08b1"
      },
      "source": [
        "people.groupby(people['data.name']).agg('count').sort_values('data.uri',ascending=False)"
      ],
      "execution_count": null,
      "outputs": [
        {
          "output_type": "execute_result",
          "data": {
            "text/html": [
              "<div>\n",
              "<style scoped>\n",
              "    .dataframe tbody tr th:only-of-type {\n",
              "        vertical-align: middle;\n",
              "    }\n",
              "\n",
              "    .dataframe tbody tr th {\n",
              "        vertical-align: top;\n",
              "    }\n",
              "\n",
              "    .dataframe thead th {\n",
              "        text-align: right;\n",
              "    }\n",
              "</style>\n",
              "<table border=\"1\" class=\"dataframe\">\n",
              "  <thead>\n",
              "    <tr style=\"text-align: right;\">\n",
              "      <th></th>\n",
              "      <th>timestamp</th>\n",
              "      <th>data.uri</th>\n",
              "    </tr>\n",
              "    <tr>\n",
              "      <th>data.name</th>\n",
              "      <th></th>\n",
              "      <th></th>\n",
              "    </tr>\n",
              "  </thead>\n",
              "  <tbody>\n",
              "    <tr>\n",
              "      <th>Ricardo Marques</th>\n",
              "      <td>2</td>\n",
              "      <td>2</td>\n",
              "    </tr>\n",
              "    <tr>\n",
              "      <th>Rafael Almeida</th>\n",
              "      <td>2</td>\n",
              "      <td>2</td>\n",
              "    </tr>\n",
              "    <tr>\n",
              "      <th>AdÃ©lia Bonatto Marconato</th>\n",
              "      <td>2</td>\n",
              "      <td>2</td>\n",
              "    </tr>\n",
              "    <tr>\n",
              "      <th>Eric Silva</th>\n",
              "      <td>2</td>\n",
              "      <td>2</td>\n",
              "    </tr>\n",
              "    <tr>\n",
              "      <th>Mateus Nunes</th>\n",
              "      <td>2</td>\n",
              "      <td>2</td>\n",
              "    </tr>\n",
              "    <tr>\n",
              "      <th>...</th>\n",
              "      <td>...</td>\n",
              "      <td>...</td>\n",
              "    </tr>\n",
              "    <tr>\n",
              "      <th>Gabrielli Luciana</th>\n",
              "      <td>1</td>\n",
              "      <td>1</td>\n",
              "    </tr>\n",
              "    <tr>\n",
              "      <th>Gabriella Longhi</th>\n",
              "      <td>1</td>\n",
              "      <td>1</td>\n",
              "    </tr>\n",
              "    <tr>\n",
              "      <th>Gabriele Piato</th>\n",
              "      <td>1</td>\n",
              "      <td>1</td>\n",
              "    </tr>\n",
              "    <tr>\n",
              "      <th>Gabriele Garcia</th>\n",
              "      <td>1</td>\n",
              "      <td>1</td>\n",
              "    </tr>\n",
              "    <tr>\n",
              "      <th>äºå¶è¯äº</th>\n",
              "      <td>1</td>\n",
              "      <td>1</td>\n",
              "    </tr>\n",
              "  </tbody>\n",
              "</table>\n",
              "<p>1200 rows × 2 columns</p>\n",
              "</div>"
            ],
            "text/plain": [
              "                           timestamp  data.uri\n",
              "data.name                                     \n",
              "Ricardo Marques                    2         2\n",
              "Rafael Almeida                     2         2\n",
              "AdÃ©lia Bonatto Marconato          2         2\n",
              "Eric Silva                         2         2\n",
              "Mateus Nunes                       2         2\n",
              "...                              ...       ...\n",
              "Gabrielli Luciana                  1         1\n",
              "Gabriella Longhi                   1         1\n",
              "Gabriele Piato                     1         1\n",
              "Gabriele Garcia                    1         1\n",
              "äºå¶è¯äº                       1         1\n",
              "\n",
              "[1200 rows x 2 columns]"
            ]
          },
          "metadata": {
            "tags": []
          },
          "execution_count": 76
        }
      ]
    },
    {
      "cell_type": "code",
      "metadata": {
        "id": "0-a_rMnnZWOL"
      },
      "source": [
        "horas=pd.read_json('/content/drive/MyDrive/3_VAMO_AI/Dados_Natascha/facebook-nataschafweber/security_and_login_information/your_facebook_activity_history.json')\n",
        "horas\n",
        "\n"
      ],
      "execution_count": null,
      "outputs": []
    },
    {
      "cell_type": "code",
      "metadata": {
        "id": "MsO2h3EVZbBV"
      },
      "source": [
        "horas=pd.json_normalize(horas['last_activity_v2'])\n"
      ],
      "execution_count": null,
      "outputs": []
    },
    {
      "cell_type": "code",
      "metadata": {
        "id": "_qBmicX7aAs4"
      },
      "source": [
        "horas"
      ],
      "execution_count": null,
      "outputs": []
    },
    {
      "cell_type": "code",
      "metadata": {
        "id": "69VXwoyEDLTw"
      },
      "source": [
        "horas=horas.explode('Site.activity_by_day')\n"
      ],
      "execution_count": null,
      "outputs": []
    },
    {
      "cell_type": "code",
      "metadata": {
        "id": "6JNK0CFQDUj_"
      },
      "source": [
        "horas=horas.explode('Aplicativo do Facebook.activity_by_day')\n"
      ],
      "execution_count": null,
      "outputs": []
    },
    {
      "cell_type": "code",
      "metadata": {
        "id": "-B2V52SBEQ80"
      },
      "source": [
        "horas=horas.explode('Android.activity_by_day')\n"
      ],
      "execution_count": null,
      "outputs": []
    },
    {
      "cell_type": "code",
      "metadata": {
        "id": "tiZSM7fSEds_"
      },
      "source": [
        "horas=horas.explode('Web no celular.activity_by_day')\n"
      ],
      "execution_count": null,
      "outputs": []
    },
    {
      "cell_type": "code",
      "metadata": {
        "id": "zEI0EeKGEieV"
      },
      "source": [
        "horas=horas.explode('Facebook Messenger para Android.activity_by_day')"
      ],
      "execution_count": null,
      "outputs": []
    },
    {
      "cell_type": "code",
      "metadata": {
        "id": "GSTE_ODzEj5d"
      },
      "source": [
        "horas.head()"
      ],
      "execution_count": null,
      "outputs": []
    },
    {
      "cell_type": "code",
      "metadata": {
        "id": "x7vXIV6dEnKC"
      },
      "source": [
        "horas['Site.activity_by_day'] = pd.to_datetime(horas['Site.activity_by_day'], unit='s')\n"
      ],
      "execution_count": null,
      "outputs": []
    },
    {
      "cell_type": "code",
      "metadata": {
        "id": "YUULXT5jMsPF"
      },
      "source": [
        "horas.head()"
      ],
      "execution_count": null,
      "outputs": []
    },
    {
      "cell_type": "code",
      "metadata": {
        "id": "MIM-ldovFPn_"
      },
      "source": [
        "horas['Aplicativo do Facebook.activity_by_day'] = pd.to_datetime(horas['Aplicativo do Facebook.activity_by_day'], unit='s')\n",
        "horas['Android.activity_by_day'] = pd.to_datetime(horas['Android.activity_by_day'], unit='s')"
      ],
      "execution_count": null,
      "outputs": []
    },
    {
      "cell_type": "code",
      "metadata": {
        "id": "0wqvClWNR3pr"
      },
      "source": [
        "\n",
        "horas['Web no celular.activity_by_day'] = pd.to_datetime(horas['Web no celular.activity_by_day'], unit='s') \n",
        "horas['Facebook Messenger para Android.activity_by_day'] = pd.to_datetime(horas['Facebook Messenger para Android.activity_by_day'], unit='s') \n",
        "horas.head()"
      ],
      "execution_count": null,
      "outputs": []
    },
    {
      "cell_type": "code",
      "metadata": {
        "id": "7JcNZ8zAI0LE"
      },
      "source": [
        "horas['teste2'] = horas['Site.activity_by_day'].dt.strftime('%H:%M:%S')"
      ],
      "execution_count": null,
      "outputs": []
    },
    {
      "cell_type": "code",
      "metadata": {
        "id": "WO6-RbavLgdw"
      },
      "source": [
        "horas.head()"
      ],
      "execution_count": null,
      "outputs": []
    }
  ]
}